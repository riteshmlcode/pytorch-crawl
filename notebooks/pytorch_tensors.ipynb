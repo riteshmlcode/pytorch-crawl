{
  "nbformat": 4,
  "nbformat_minor": 0,
  "metadata": {
    "colab": {
      "provenance": [],
      "gpuType": "T4"
    },
    "kernelspec": {
      "name": "python3",
      "display_name": "Python 3"
    },
    "language_info": {
      "name": "python"
    },
    "accelerator": "GPU"
  },
  "cells": [
    {
      "cell_type": "code",
      "execution_count": 1,
      "metadata": {
        "colab": {
          "base_uri": "https://localhost:8080/"
        },
        "id": "2S-RRw-Sepo1",
        "outputId": "f5aa5976-d4c8-4f96-9e68-4d8df31cf8f6"
      },
      "outputs": [
        {
          "output_type": "stream",
          "name": "stdout",
          "text": [
            "2.5.1+cu124\n"
          ]
        }
      ],
      "source": [
        "import torch\n",
        "print(torch.__version__)"
      ]
    },
    {
      "cell_type": "code",
      "source": [
        "if torch.cuda.is_available():\n",
        "    print(\"CUDA is available.\")\n",
        "    print(\"Number of CUDA devices:\", torch.cuda.get_device_name(0))\n",
        "else:\n",
        "    print(\"CUDA is not available.\")"
      ],
      "metadata": {
        "colab": {
          "base_uri": "https://localhost:8080/"
        },
        "id": "knumYtt-fGC2",
        "outputId": "b0ece38a-66f2-45a7-8693-4eb3acf541d4"
      },
      "execution_count": 2,
      "outputs": [
        {
          "output_type": "stream",
          "name": "stdout",
          "text": [
            "CUDA is available.\n",
            "Number of CUDA devices: Tesla T4\n"
          ]
        }
      ]
    },
    {
      "cell_type": "markdown",
      "source": [
        "**Creating a Tensor**"
      ],
      "metadata": {
        "id": "gwuEK0kOgsUh"
      }
    },
    {
      "cell_type": "code",
      "source": [
        "# Using empty\n",
        "a = torch.empty(2,3)"
      ],
      "metadata": {
        "id": "EpeQyfxvgnFa"
      },
      "execution_count": 4,
      "outputs": []
    },
    {
      "cell_type": "code",
      "source": [
        "type(a)"
      ],
      "metadata": {
        "colab": {
          "base_uri": "https://localhost:8080/"
        },
        "id": "gAU0lGPfhD3H",
        "outputId": "0d7ebc38-0232-469e-a077-0dc8506f86a6"
      },
      "execution_count": 5,
      "outputs": [
        {
          "output_type": "execute_result",
          "data": {
            "text/plain": [
              "torch.Tensor"
            ]
          },
          "metadata": {},
          "execution_count": 5
        }
      ]
    },
    {
      "cell_type": "code",
      "source": [
        "torch.zeros(2,3)"
      ],
      "metadata": {
        "colab": {
          "base_uri": "https://localhost:8080/"
        },
        "id": "Q09Smu5shGpP",
        "outputId": "eab95ce9-be18-4c6d-821d-0071b34714b1"
      },
      "execution_count": 6,
      "outputs": [
        {
          "output_type": "execute_result",
          "data": {
            "text/plain": [
              "tensor([[0., 0., 0.],\n",
              "        [0., 0., 0.]])"
            ]
          },
          "metadata": {},
          "execution_count": 6
        }
      ]
    },
    {
      "cell_type": "code",
      "source": [
        "torch.ones(2,3)"
      ],
      "metadata": {
        "colab": {
          "base_uri": "https://localhost:8080/"
        },
        "id": "VZ3yu-g-hOPN",
        "outputId": "494b5f0d-5dee-4799-b6fb-bd2ddea86dc9"
      },
      "execution_count": 7,
      "outputs": [
        {
          "output_type": "execute_result",
          "data": {
            "text/plain": [
              "tensor([[1., 1., 1.],\n",
              "        [1., 1., 1.]])"
            ]
          },
          "metadata": {},
          "execution_count": 7
        }
      ]
    },
    {
      "cell_type": "code",
      "source": [
        "torch.rand(2,3)"
      ],
      "metadata": {
        "colab": {
          "base_uri": "https://localhost:8080/"
        },
        "id": "JgF8e_J4hTb_",
        "outputId": "7cfebdfd-49b6-4435-9b3c-383009df9e5b"
      },
      "execution_count": 8,
      "outputs": [
        {
          "output_type": "execute_result",
          "data": {
            "text/plain": [
              "tensor([[0.9275, 0.0459, 0.6475],\n",
              "        [0.9928, 0.9206, 0.8860]])"
            ]
          },
          "metadata": {},
          "execution_count": 8
        }
      ]
    },
    {
      "cell_type": "code",
      "source": [
        "torch.manual_seed(100)\n",
        "torch.rand(2,3)"
      ],
      "metadata": {
        "colab": {
          "base_uri": "https://localhost:8080/"
        },
        "id": "1CuejkdEhWqA",
        "outputId": "df49274e-1736-43d2-d1cf-fb1b86602fbf"
      },
      "execution_count": 9,
      "outputs": [
        {
          "output_type": "execute_result",
          "data": {
            "text/plain": [
              "tensor([[0.1117, 0.8158, 0.2626],\n",
              "        [0.4839, 0.6765, 0.7539]])"
            ]
          },
          "metadata": {},
          "execution_count": 9
        }
      ]
    },
    {
      "cell_type": "code",
      "source": [
        "torch.tensor([[1,2,3],[4,5,6]])"
      ],
      "metadata": {
        "colab": {
          "base_uri": "https://localhost:8080/"
        },
        "id": "M3UrqwXqht39",
        "outputId": "1f8e8eb6-2f5e-4a3c-83f8-c6608fdfc625"
      },
      "execution_count": 10,
      "outputs": [
        {
          "output_type": "execute_result",
          "data": {
            "text/plain": [
              "tensor([[1, 2, 3],\n",
              "        [4, 5, 6]])"
            ]
          },
          "metadata": {},
          "execution_count": 10
        }
      ]
    },
    {
      "cell_type": "code",
      "source": [
        "print(\"using a range --->\", torch.arange(0,10,2))\n",
        "\n",
        "print(\"using linspace-->\", torch.linspace(0,10,10))\n",
        "\n",
        "print(\"using eye --> \", torch.eye(5))\n",
        "\n",
        "print(\"using full -->\", torch.full((3,3),5))"
      ],
      "metadata": {
        "colab": {
          "base_uri": "https://localhost:8080/"
        },
        "id": "kifx9kjch3pf",
        "outputId": "77649f8e-67b5-406d-8927-d887b10496ef"
      },
      "execution_count": 13,
      "outputs": [
        {
          "output_type": "stream",
          "name": "stdout",
          "text": [
            "using a range ---> tensor([0, 2, 4, 6, 8])\n",
            "using linspace--> tensor([ 0.0000,  1.1111,  2.2222,  3.3333,  4.4444,  5.5556,  6.6667,  7.7778,\n",
            "         8.8889, 10.0000])\n",
            "using eye -->  tensor([[1., 0., 0., 0., 0.],\n",
            "        [0., 1., 0., 0., 0.],\n",
            "        [0., 0., 1., 0., 0.],\n",
            "        [0., 0., 0., 1., 0.],\n",
            "        [0., 0., 0., 0., 1.]])\n",
            "using full --> tensor([[5, 5, 5],\n",
            "        [5, 5, 5],\n",
            "        [5, 5, 5]])\n"
          ]
        }
      ]
    },
    {
      "cell_type": "code",
      "source": [],
      "metadata": {
        "id": "yf7waANVitUP"
      },
      "execution_count": null,
      "outputs": []
    },
    {
      "cell_type": "markdown",
      "source": [
        "# Tensor Shape"
      ],
      "metadata": {
        "id": "ee2LF8tJjDup"
      }
    },
    {
      "cell_type": "code",
      "source": [
        "x = torch.tensor([[1,2,3],[4,5,6]])\n",
        "x.shape"
      ],
      "metadata": {
        "colab": {
          "base_uri": "https://localhost:8080/"
        },
        "id": "iCZ5ZyJfjGu1",
        "outputId": "36b5b4e0-fb7e-4ac5-ac75-bdd5bca80945"
      },
      "execution_count": 14,
      "outputs": [
        {
          "output_type": "execute_result",
          "data": {
            "text/plain": [
              "torch.Size([2, 3])"
            ]
          },
          "metadata": {},
          "execution_count": 14
        }
      ]
    },
    {
      "cell_type": "code",
      "source": [
        "torch.empty_like(x)"
      ],
      "metadata": {
        "colab": {
          "base_uri": "https://localhost:8080/"
        },
        "id": "BCTqCgeBjT2b",
        "outputId": "f31b6c29-65e2-41eb-a148-05e37247fdde"
      },
      "execution_count": 15,
      "outputs": [
        {
          "output_type": "execute_result",
          "data": {
            "text/plain": [
              "tensor([[    137284639726992,           152401168,                   0],\n",
              "        [                  0,                   0, 7310593858020254331]])"
            ]
          },
          "metadata": {},
          "execution_count": 15
        }
      ]
    },
    {
      "cell_type": "code",
      "source": [
        "torch.zeros_like(x)"
      ],
      "metadata": {
        "colab": {
          "base_uri": "https://localhost:8080/"
        },
        "id": "5cqWcnlXjbuW",
        "outputId": "e0a73858-5f53-4a55-aab5-a38e61f3a17b"
      },
      "execution_count": 16,
      "outputs": [
        {
          "output_type": "execute_result",
          "data": {
            "text/plain": [
              "tensor([[0, 0, 0],\n",
              "        [0, 0, 0]])"
            ]
          },
          "metadata": {},
          "execution_count": 16
        }
      ]
    },
    {
      "cell_type": "code",
      "source": [
        "torch.ones_like(x)"
      ],
      "metadata": {
        "colab": {
          "base_uri": "https://localhost:8080/"
        },
        "id": "ZTx9NYYXjfSe",
        "outputId": "aee45e12-6702-4fed-a20e-de59b9f42181"
      },
      "execution_count": 17,
      "outputs": [
        {
          "output_type": "execute_result",
          "data": {
            "text/plain": [
              "tensor([[1, 1, 1],\n",
              "        [1, 1, 1]])"
            ]
          },
          "metadata": {},
          "execution_count": 17
        }
      ]
    },
    {
      "cell_type": "code",
      "source": [
        "torch.rand_like(x,dtype=torch.float32)"
      ],
      "metadata": {
        "colab": {
          "base_uri": "https://localhost:8080/"
        },
        "id": "OrVIXGFLjjUT",
        "outputId": "79d2ed63-268c-4ca2-dc10-f5c390d7c32e"
      },
      "execution_count": 26,
      "outputs": [
        {
          "output_type": "execute_result",
          "data": {
            "text/plain": [
              "tensor([[0.2627, 0.0428, 0.2080],\n",
              "        [0.1180, 0.1217, 0.7356]])"
            ]
          },
          "metadata": {},
          "execution_count": 26
        }
      ]
    },
    {
      "cell_type": "markdown",
      "source": [
        "# Tensor Data Type"
      ],
      "metadata": {
        "id": "-FzN_MWcj1QB"
      }
    },
    {
      "cell_type": "code",
      "source": [
        "x.dtype"
      ],
      "metadata": {
        "colab": {
          "base_uri": "https://localhost:8080/"
        },
        "id": "FJCH1ErLj5fE",
        "outputId": "e1f7b1b5-a2a4-4e55-9164-21f1d3318b64"
      },
      "execution_count": 19,
      "outputs": [
        {
          "output_type": "execute_result",
          "data": {
            "text/plain": [
              "torch.int64"
            ]
          },
          "metadata": {},
          "execution_count": 19
        }
      ]
    },
    {
      "cell_type": "code",
      "source": [
        "torch.tensor([1.0,2.0,3.0], dtype=torch.int32)"
      ],
      "metadata": {
        "colab": {
          "base_uri": "https://localhost:8080/"
        },
        "id": "_qxtgCKwj9SV",
        "outputId": "949c9c6a-9018-4156-b44e-dd74d04a57d2"
      },
      "execution_count": 20,
      "outputs": [
        {
          "output_type": "execute_result",
          "data": {
            "text/plain": [
              "tensor([1, 2, 3], dtype=torch.int32)"
            ]
          },
          "metadata": {},
          "execution_count": 20
        }
      ]
    },
    {
      "cell_type": "code",
      "source": [
        "torch.tensor([1,2,3], dtype=torch.float64)"
      ],
      "metadata": {
        "colab": {
          "base_uri": "https://localhost:8080/"
        },
        "id": "xcTU3OS8kJEy",
        "outputId": "79b42006-a88a-4bc6-d679-4f4a6cf71d29"
      },
      "execution_count": 21,
      "outputs": [
        {
          "output_type": "execute_result",
          "data": {
            "text/plain": [
              "tensor([1., 2., 3.], dtype=torch.float64)"
            ]
          },
          "metadata": {},
          "execution_count": 21
        }
      ]
    },
    {
      "cell_type": "code",
      "source": [
        "x.to(torch.float32)"
      ],
      "metadata": {
        "colab": {
          "base_uri": "https://localhost:8080/"
        },
        "id": "K7f8j7ugkQ4h",
        "outputId": "054c02c3-7ae0-4bd4-bf2b-4b5c16c9f989"
      },
      "execution_count": 23,
      "outputs": [
        {
          "output_type": "execute_result",
          "data": {
            "text/plain": [
              "tensor([[1., 2., 3.],\n",
              "        [4., 5., 6.]])"
            ]
          },
          "metadata": {},
          "execution_count": 23
        }
      ]
    },
    {
      "cell_type": "markdown",
      "source": [
        "# Mathematical Operations"
      ],
      "metadata": {
        "id": "LUBFP_S1lEpn"
      }
    },
    {
      "cell_type": "markdown",
      "source": [
        "1. Scaler Operations"
      ],
      "metadata": {
        "id": "OF3CDiPAlOf2"
      }
    },
    {
      "cell_type": "code",
      "source": [
        "x= torch.rand(2,2)\n",
        "x"
      ],
      "metadata": {
        "colab": {
          "base_uri": "https://localhost:8080/"
        },
        "id": "eYkf7Se5lUiT",
        "outputId": "2b7a047d-1809-443f-a1e0-a09fd2b55753"
      },
      "execution_count": 28,
      "outputs": [
        {
          "output_type": "execute_result",
          "data": {
            "text/plain": [
              "tensor([[0.9969, 0.7565],\n",
              "        [0.2239, 0.3023]])"
            ]
          },
          "metadata": {},
          "execution_count": 28
        }
      ]
    },
    {
      "cell_type": "code",
      "source": [
        "x + 2\n",
        "x - 2\n",
        "x * 3\n",
        "x / 3\n",
        "(x * 100)//3\n",
        "((x * 100)//3)%2"
      ],
      "metadata": {
        "colab": {
          "base_uri": "https://localhost:8080/"
        },
        "id": "nzpAwjWGlelT",
        "outputId": "c4c4e2cf-ae8d-44bd-d0bc-5bd698d9e352"
      },
      "execution_count": 33,
      "outputs": [
        {
          "output_type": "execute_result",
          "data": {
            "text/plain": [
              "tensor([[1., 1.],\n",
              "        [1., 0.]])"
            ]
          },
          "metadata": {},
          "execution_count": 33
        }
      ]
    },
    {
      "cell_type": "markdown",
      "source": [
        "# 2. Element Wise Operations"
      ],
      "metadata": {
        "id": "0mOt6NelmcU-"
      }
    },
    {
      "cell_type": "code",
      "source": [
        "a = torch.rand(2,3)\n",
        "b = torch.rand(2,3)\n",
        "print(a)\n",
        "print(b)\n"
      ],
      "metadata": {
        "colab": {
          "base_uri": "https://localhost:8080/"
        },
        "id": "7hkUjPJjmgrW",
        "outputId": "c75f10eb-139b-4447-c16f-89857497115d"
      },
      "execution_count": 34,
      "outputs": [
        {
          "output_type": "stream",
          "name": "stdout",
          "text": [
            "tensor([[0.1784, 0.8238, 0.5557],\n",
            "        [0.9770, 0.4440, 0.9478]])\n",
            "tensor([[0.7445, 0.4892, 0.2426],\n",
            "        [0.7003, 0.5277, 0.2472]])\n"
          ]
        }
      ]
    },
    {
      "cell_type": "code",
      "source": [
        "a + b\n",
        "a - b\n",
        "a * b\n",
        "a / b\n",
        "a % b"
      ],
      "metadata": {
        "colab": {
          "base_uri": "https://localhost:8080/"
        },
        "id": "jlurQkhPmwfG",
        "outputId": "34228dcf-994c-4736-9e3d-b2da71b6811b"
      },
      "execution_count": 36,
      "outputs": [
        {
          "output_type": "execute_result",
          "data": {
            "text/plain": [
              "tensor([[0.1784, 0.3346, 0.0706],\n",
              "        [0.2767, 0.4440, 0.2063]])"
            ]
          },
          "metadata": {},
          "execution_count": 36
        }
      ]
    },
    {
      "cell_type": "code",
      "source": [
        "c = torch.tensor([1,-2,3,-4])\n",
        "torch.abs(c)\n",
        "torch.neg(c)"
      ],
      "metadata": {
        "colab": {
          "base_uri": "https://localhost:8080/"
        },
        "id": "CX8oVEh3nHQa",
        "outputId": "1d5c66fa-1953-47e0-fa82-b351de385921"
      },
      "execution_count": 40,
      "outputs": [
        {
          "output_type": "execute_result",
          "data": {
            "text/plain": [
              "tensor([-1,  2, -3,  4])"
            ]
          },
          "metadata": {},
          "execution_count": 40
        }
      ]
    },
    {
      "cell_type": "code",
      "source": [
        "d = torch.tensor([1.9,2.3,3.4,4.3])\n",
        "torch.round(d)\n",
        "torch.floor(d)\n",
        "torch.ceil(d)"
      ],
      "metadata": {
        "colab": {
          "base_uri": "https://localhost:8080/"
        },
        "id": "gSVVRp8TnpNL",
        "outputId": "d48dbbfc-4d14-4c4e-c62a-0afc392d17d9"
      },
      "execution_count": 42,
      "outputs": [
        {
          "output_type": "execute_result",
          "data": {
            "text/plain": [
              "tensor([2., 3., 4., 5.])"
            ]
          },
          "metadata": {},
          "execution_count": 42
        }
      ]
    },
    {
      "cell_type": "code",
      "source": [
        "torch.clamp(d,min=2,max=3)"
      ],
      "metadata": {
        "colab": {
          "base_uri": "https://localhost:8080/"
        },
        "id": "b7lb-KWxn9b9",
        "outputId": "47c10f11-ad71-4363-b8da-1f7b72cc4118"
      },
      "execution_count": 43,
      "outputs": [
        {
          "output_type": "execute_result",
          "data": {
            "text/plain": [
              "tensor([2.0000, 2.3000, 3.0000, 3.0000])"
            ]
          },
          "metadata": {},
          "execution_count": 43
        }
      ]
    },
    {
      "cell_type": "markdown",
      "source": [
        "# 3. Reduction Operations"
      ],
      "metadata": {
        "id": "Baji91zcoLE5"
      }
    },
    {
      "cell_type": "code",
      "source": [
        "e = torch.randint(size=(2,3),low=0,high=10)\n",
        "e"
      ],
      "metadata": {
        "colab": {
          "base_uri": "https://localhost:8080/"
        },
        "id": "eH24gFzxoN0r",
        "outputId": "d61d7528-82fe-4665-94c0-cb5c81c9a724"
      },
      "execution_count": 44,
      "outputs": [
        {
          "output_type": "execute_result",
          "data": {
            "text/plain": [
              "tensor([[0, 9, 5],\n",
              "        [7, 3, 9]])"
            ]
          },
          "metadata": {},
          "execution_count": 44
        }
      ]
    },
    {
      "cell_type": "code",
      "source": [
        "torch.sum(e)\n",
        "torch.sum(e,dim=0)\n",
        "torch.sum(e,dim=1)"
      ],
      "metadata": {
        "colab": {
          "base_uri": "https://localhost:8080/"
        },
        "id": "srDWYbZcoZH3",
        "outputId": "07340ca4-d222-42ff-de7b-32e8f27b37ca"
      },
      "execution_count": 46,
      "outputs": [
        {
          "output_type": "execute_result",
          "data": {
            "text/plain": [
              "tensor([14, 19])"
            ]
          },
          "metadata": {},
          "execution_count": 46
        }
      ]
    },
    {
      "cell_type": "code",
      "source": [
        "torch.mean(e.float(),dim=0)"
      ],
      "metadata": {
        "colab": {
          "base_uri": "https://localhost:8080/"
        },
        "id": "OMRA2B3HopKf",
        "outputId": "ce8c2c23-5eb3-4904-981b-ccc48cd0e24d"
      },
      "execution_count": 47,
      "outputs": [
        {
          "output_type": "execute_result",
          "data": {
            "text/plain": [
              "tensor([3.5000, 6.0000, 7.0000])"
            ]
          },
          "metadata": {},
          "execution_count": 47
        }
      ]
    },
    {
      "cell_type": "code",
      "source": [
        "torch.median(e)"
      ],
      "metadata": {
        "colab": {
          "base_uri": "https://localhost:8080/"
        },
        "id": "KjikNQ4no4u3",
        "outputId": "17a2c3ab-d545-44b4-b3c4-d6920e391805"
      },
      "execution_count": 48,
      "outputs": [
        {
          "output_type": "execute_result",
          "data": {
            "text/plain": [
              "tensor(5)"
            ]
          },
          "metadata": {},
          "execution_count": 48
        }
      ]
    },
    {
      "cell_type": "code",
      "source": [
        "torch.max(e)\n",
        "torch.min(e)"
      ],
      "metadata": {
        "colab": {
          "base_uri": "https://localhost:8080/"
        },
        "id": "EtxFQ0Fzo7_d",
        "outputId": "76184ec9-a583-4020-c90f-b448de6603f6"
      },
      "execution_count": 49,
      "outputs": [
        {
          "output_type": "execute_result",
          "data": {
            "text/plain": [
              "tensor(0)"
            ]
          },
          "metadata": {},
          "execution_count": 49
        }
      ]
    },
    {
      "cell_type": "code",
      "source": [
        "torch.std(e.float())"
      ],
      "metadata": {
        "colab": {
          "base_uri": "https://localhost:8080/"
        },
        "id": "P90U5wEkpDnN",
        "outputId": "73ca2eaf-1654-4d27-8bda-b6f6832a76c4"
      },
      "execution_count": 51,
      "outputs": [
        {
          "output_type": "execute_result",
          "data": {
            "text/plain": [
              "tensor(3.5637)"
            ]
          },
          "metadata": {},
          "execution_count": 51
        }
      ]
    },
    {
      "cell_type": "code",
      "source": [
        "torch.argmax(e)"
      ],
      "metadata": {
        "colab": {
          "base_uri": "https://localhost:8080/"
        },
        "id": "ZPR_yRxnpN89",
        "outputId": "bbd586d0-a6e4-44ce-ef23-6036db812eb8"
      },
      "execution_count": 52,
      "outputs": [
        {
          "output_type": "execute_result",
          "data": {
            "text/plain": [
              "tensor(1)"
            ]
          },
          "metadata": {},
          "execution_count": 52
        }
      ]
    },
    {
      "cell_type": "markdown",
      "source": [
        "# 4. Matrix Operations"
      ],
      "metadata": {
        "id": "5ztG1H62pZh2"
      }
    },
    {
      "cell_type": "code",
      "source": [
        "f = torch.randint(size=(2,3),low=0,high=10)\n",
        "g = torch.randint(size=(3,2),low=0,high=10)\n",
        "print(f)\n",
        "print(g)"
      ],
      "metadata": {
        "colab": {
          "base_uri": "https://localhost:8080/"
        },
        "id": "AZmVc-JwpdMh",
        "outputId": "6496236d-4fea-450e-ad59-53284f955212"
      },
      "execution_count": 53,
      "outputs": [
        {
          "output_type": "stream",
          "name": "stdout",
          "text": [
            "tensor([[4, 0, 5],\n",
            "        [7, 5, 9]])\n",
            "tensor([[9, 7],\n",
            "        [5, 9],\n",
            "        [8, 9]])\n"
          ]
        }
      ]
    },
    {
      "cell_type": "code",
      "source": [
        "torch.matmul(f,g)"
      ],
      "metadata": {
        "colab": {
          "base_uri": "https://localhost:8080/"
        },
        "id": "jJkHybBkpkpU",
        "outputId": "39b7a859-54f1-4950-cccb-164a9f0e3da8"
      },
      "execution_count": 54,
      "outputs": [
        {
          "output_type": "execute_result",
          "data": {
            "text/plain": [
              "tensor([[ 76,  73],\n",
              "        [160, 175]])"
            ]
          },
          "metadata": {},
          "execution_count": 54
        }
      ]
    },
    {
      "cell_type": "code",
      "source": [
        "vector1=torch.tensor([1,2,3])\n",
        "vector2=torch.tensor([4,5,6])\n",
        "torch.dot(vector1,vector2)"
      ],
      "metadata": {
        "colab": {
          "base_uri": "https://localhost:8080/"
        },
        "id": "umxQy5HTpqrD",
        "outputId": "19ff0fb3-e2a0-4b79-deb5-7769f7f4b003"
      },
      "execution_count": 55,
      "outputs": [
        {
          "output_type": "execute_result",
          "data": {
            "text/plain": [
              "tensor(32)"
            ]
          },
          "metadata": {},
          "execution_count": 55
        }
      ]
    },
    {
      "cell_type": "code",
      "source": [
        "torch.transpose(f,0,1)"
      ],
      "metadata": {
        "colab": {
          "base_uri": "https://localhost:8080/"
        },
        "id": "vyeEvu5NpzAo",
        "outputId": "d3499fe2-8621-49a0-968d-11214f45f39e"
      },
      "execution_count": 56,
      "outputs": [
        {
          "output_type": "execute_result",
          "data": {
            "text/plain": [
              "tensor([[4, 7],\n",
              "        [0, 5],\n",
              "        [5, 9]])"
            ]
          },
          "metadata": {},
          "execution_count": 56
        }
      ]
    },
    {
      "cell_type": "markdown",
      "source": [
        "# 5. Comparision Operations"
      ],
      "metadata": {
        "id": "PvfphX4-qLbr"
      }
    },
    {
      "cell_type": "code",
      "source": [
        "i = torch.randint(size=(2,3),low=0,high=10)\n",
        "j = torch.randint(size=(2,3),low=0,high=10)\n",
        "print(i)\n",
        "print(j)"
      ],
      "metadata": {
        "colab": {
          "base_uri": "https://localhost:8080/"
        },
        "id": "PkM3qSPdqPQ_",
        "outputId": "0c295665-f91d-4287-e14e-604f71eb387c"
      },
      "execution_count": 57,
      "outputs": [
        {
          "output_type": "stream",
          "name": "stdout",
          "text": [
            "tensor([[7, 9, 2],\n",
            "        [6, 7, 7]])\n",
            "tensor([[8, 3, 6],\n",
            "        [1, 5, 5]])\n"
          ]
        }
      ]
    },
    {
      "cell_type": "code",
      "source": [
        "i > j\n",
        "i < j\n",
        "i == j"
      ],
      "metadata": {
        "colab": {
          "base_uri": "https://localhost:8080/"
        },
        "id": "9jOHcwWhqb0b",
        "outputId": "a581f326-ba75-4167-9f7f-d518419fcb53"
      },
      "execution_count": 59,
      "outputs": [
        {
          "output_type": "execute_result",
          "data": {
            "text/plain": [
              "tensor([[False, False, False],\n",
              "        [False, False, False]])"
            ]
          },
          "metadata": {},
          "execution_count": 59
        }
      ]
    },
    {
      "cell_type": "code",
      "source": [
        "k = torch.randint(size=(2,3),low=0,high=10)\n",
        "print(k)"
      ],
      "metadata": {
        "colab": {
          "base_uri": "https://localhost:8080/"
        },
        "id": "UNONFXQVqfgV",
        "outputId": "c730c1de-856f-4fa2-b707-81d210d083ac"
      },
      "execution_count": 60,
      "outputs": [
        {
          "output_type": "stream",
          "name": "stdout",
          "text": [
            "tensor([[0, 4, 3],\n",
            "        [8, 8, 3]])\n"
          ]
        }
      ]
    },
    {
      "cell_type": "code",
      "source": [
        "torch.log(k)"
      ],
      "metadata": {
        "colab": {
          "base_uri": "https://localhost:8080/"
        },
        "id": "wL2-q0gsquun",
        "outputId": "bc61700b-bbbd-431d-af5e-d3326969392c"
      },
      "execution_count": 61,
      "outputs": [
        {
          "output_type": "execute_result",
          "data": {
            "text/plain": [
              "tensor([[  -inf, 1.3863, 1.0986],\n",
              "        [2.0794, 2.0794, 1.0986]])"
            ]
          },
          "metadata": {},
          "execution_count": 61
        }
      ]
    },
    {
      "cell_type": "code",
      "source": [
        "torch.sqrt(k)"
      ],
      "metadata": {
        "colab": {
          "base_uri": "https://localhost:8080/"
        },
        "id": "bbaNrxCAq0dB",
        "outputId": "241abb08-cb82-413d-e44e-265c482cc299"
      },
      "execution_count": 62,
      "outputs": [
        {
          "output_type": "execute_result",
          "data": {
            "text/plain": [
              "tensor([[0.0000, 2.0000, 1.7321],\n",
              "        [2.8284, 2.8284, 1.7321]])"
            ]
          },
          "metadata": {},
          "execution_count": 62
        }
      ]
    },
    {
      "cell_type": "code",
      "source": [
        "torch.sigmoid(k)"
      ],
      "metadata": {
        "colab": {
          "base_uri": "https://localhost:8080/"
        },
        "id": "3pVX1WtRq4tL",
        "outputId": "36e806a3-8f4b-4a69-bdf3-a0ee7686a631"
      },
      "execution_count": 63,
      "outputs": [
        {
          "output_type": "execute_result",
          "data": {
            "text/plain": [
              "tensor([[0.5000, 0.9820, 0.9526],\n",
              "        [0.9997, 0.9997, 0.9526]])"
            ]
          },
          "metadata": {},
          "execution_count": 63
        }
      ]
    },
    {
      "cell_type": "code",
      "source": [
        "torch.softmax(k.float(),dim=0)"
      ],
      "metadata": {
        "colab": {
          "base_uri": "https://localhost:8080/"
        },
        "id": "xZD-663Zq8IK",
        "outputId": "085fdecb-aaf8-4422-fdba-17f12341426f"
      },
      "execution_count": 66,
      "outputs": [
        {
          "output_type": "execute_result",
          "data": {
            "text/plain": [
              "tensor([[3.3535e-04, 1.7986e-02, 5.0000e-01],\n",
              "        [9.9966e-01, 9.8201e-01, 5.0000e-01]])"
            ]
          },
          "metadata": {},
          "execution_count": 66
        }
      ]
    },
    {
      "cell_type": "code",
      "source": [
        "torch.relu(k.float())"
      ],
      "metadata": {
        "colab": {
          "base_uri": "https://localhost:8080/"
        },
        "id": "8XPN0xB3rQb8",
        "outputId": "2f59d7a2-276c-41ee-a7d3-f642179339e3"
      },
      "execution_count": 67,
      "outputs": [
        {
          "output_type": "execute_result",
          "data": {
            "text/plain": [
              "tensor([[0., 4., 3.],\n",
              "        [8., 8., 3.]])"
            ]
          },
          "metadata": {},
          "execution_count": 67
        }
      ]
    },
    {
      "cell_type": "markdown",
      "source": [
        "# Inplace Operations"
      ],
      "metadata": {
        "id": "RO7QKOdireZu"
      }
    },
    {
      "cell_type": "code",
      "source": [
        "m = torch.rand(2,3)\n",
        "n = torch.rand(2,3)\n",
        "print(m)\n",
        "print(n)"
      ],
      "metadata": {
        "colab": {
          "base_uri": "https://localhost:8080/"
        },
        "id": "95kFq-Aarhgt",
        "outputId": "6a5b1b33-8fa4-406c-fc80-06163854f15b"
      },
      "execution_count": 68,
      "outputs": [
        {
          "output_type": "stream",
          "name": "stdout",
          "text": [
            "tensor([[0.3379, 0.2170, 0.9454],\n",
            "        [0.7116, 0.1157, 0.6574]])\n",
            "tensor([[0.3451, 0.0453, 0.9798],\n",
            "        [0.5548, 0.6868, 0.4920]])\n"
          ]
        }
      ]
    },
    {
      "cell_type": "code",
      "source": [
        "m + n"
      ],
      "metadata": {
        "colab": {
          "base_uri": "https://localhost:8080/"
        },
        "id": "6skCCzyfrtES",
        "outputId": "f8ab88ff-1205-49ae-be18-0bf74d011c06"
      },
      "execution_count": 69,
      "outputs": [
        {
          "output_type": "execute_result",
          "data": {
            "text/plain": [
              "tensor([[0.6830, 0.2624, 1.9251],\n",
              "        [1.2663, 0.8025, 1.1494]])"
            ]
          },
          "metadata": {},
          "execution_count": 69
        }
      ]
    },
    {
      "cell_type": "code",
      "source": [
        "m.add_(n)"
      ],
      "metadata": {
        "colab": {
          "base_uri": "https://localhost:8080/"
        },
        "id": "6YWG98qqr2T8",
        "outputId": "75410a36-0439-462d-8882-71ec89a2cadf"
      },
      "execution_count": 70,
      "outputs": [
        {
          "output_type": "execute_result",
          "data": {
            "text/plain": [
              "tensor([[0.6830, 0.2624, 1.9251],\n",
              "        [1.2663, 0.8025, 1.1494]])"
            ]
          },
          "metadata": {},
          "execution_count": 70
        }
      ]
    },
    {
      "cell_type": "code",
      "source": [
        "m"
      ],
      "metadata": {
        "colab": {
          "base_uri": "https://localhost:8080/"
        },
        "id": "TnPbIso8r5lW",
        "outputId": "c2f81951-5e9e-4af3-9e71-a8dc10119999"
      },
      "execution_count": 71,
      "outputs": [
        {
          "output_type": "execute_result",
          "data": {
            "text/plain": [
              "tensor([[0.6830, 0.2624, 1.9251],\n",
              "        [1.2663, 0.8025, 1.1494]])"
            ]
          },
          "metadata": {},
          "execution_count": 71
        }
      ]
    },
    {
      "cell_type": "code",
      "source": [
        "m.relu_()"
      ],
      "metadata": {
        "colab": {
          "base_uri": "https://localhost:8080/"
        },
        "id": "q1peC1PpsFeC",
        "outputId": "0da146b4-3460-49a1-91d3-1aa33348262f"
      },
      "execution_count": 72,
      "outputs": [
        {
          "output_type": "execute_result",
          "data": {
            "text/plain": [
              "tensor([[0.6830, 0.2624, 1.9251],\n",
              "        [1.2663, 0.8025, 1.1494]])"
            ]
          },
          "metadata": {},
          "execution_count": 72
        }
      ]
    },
    {
      "cell_type": "code",
      "source": [
        "m"
      ],
      "metadata": {
        "colab": {
          "base_uri": "https://localhost:8080/"
        },
        "id": "F9vHz5ZwsJ8e",
        "outputId": "17a05826-3199-4f38-92f7-1e3ad6cf9826"
      },
      "execution_count": 73,
      "outputs": [
        {
          "output_type": "execute_result",
          "data": {
            "text/plain": [
              "tensor([[0.6830, 0.2624, 1.9251],\n",
              "        [1.2663, 0.8025, 1.1494]])"
            ]
          },
          "metadata": {},
          "execution_count": 73
        }
      ]
    },
    {
      "cell_type": "markdown",
      "source": [
        "# Copying a Tensor"
      ],
      "metadata": {
        "id": "tPcO8nm2sU6p"
      }
    },
    {
      "cell_type": "code",
      "source": [
        "a = torch.rand(2,3)\n",
        "a"
      ],
      "metadata": {
        "colab": {
          "base_uri": "https://localhost:8080/"
        },
        "id": "3yPtH2zSsXEX",
        "outputId": "27b93e9e-27a0-4ab0-c410-5389e49a2845"
      },
      "execution_count": 74,
      "outputs": [
        {
          "output_type": "execute_result",
          "data": {
            "text/plain": [
              "tensor([[0.0748, 0.9605, 0.3271],\n",
              "        [0.0103, 0.9516, 0.2855]])"
            ]
          },
          "metadata": {},
          "execution_count": 74
        }
      ]
    },
    {
      "cell_type": "code",
      "source": [
        "b = a\n",
        "b"
      ],
      "metadata": {
        "colab": {
          "base_uri": "https://localhost:8080/"
        },
        "id": "982zOsUXsdT3",
        "outputId": "a082fae0-08a8-4716-ae60-c6a109115993"
      },
      "execution_count": 75,
      "outputs": [
        {
          "output_type": "execute_result",
          "data": {
            "text/plain": [
              "tensor([[0.0748, 0.9605, 0.3271],\n",
              "        [0.0103, 0.9516, 0.2855]])"
            ]
          },
          "metadata": {},
          "execution_count": 75
        }
      ]
    },
    {
      "cell_type": "code",
      "source": [
        "a[0][0]= 0"
      ],
      "metadata": {
        "id": "XZnjmWwUsid2"
      },
      "execution_count": 76,
      "outputs": []
    },
    {
      "cell_type": "code",
      "source": [
        "b"
      ],
      "metadata": {
        "colab": {
          "base_uri": "https://localhost:8080/"
        },
        "id": "7Jmji7q-sqHJ",
        "outputId": "89dda96b-3312-4c20-b3aa-0757d309b720"
      },
      "execution_count": 77,
      "outputs": [
        {
          "output_type": "execute_result",
          "data": {
            "text/plain": [
              "tensor([[0.0000, 0.9605, 0.3271],\n",
              "        [0.0103, 0.9516, 0.2855]])"
            ]
          },
          "metadata": {},
          "execution_count": 77
        }
      ]
    },
    {
      "cell_type": "code",
      "source": [
        "id(a)"
      ],
      "metadata": {
        "colab": {
          "base_uri": "https://localhost:8080/"
        },
        "id": "qWWWcErpss2I",
        "outputId": "f2379422-4ef7-4bff-eb2c-f0c6434776c2"
      },
      "execution_count": 78,
      "outputs": [
        {
          "output_type": "execute_result",
          "data": {
            "text/plain": [
              "137279727701936"
            ]
          },
          "metadata": {},
          "execution_count": 78
        }
      ]
    },
    {
      "cell_type": "code",
      "source": [
        "id(b)"
      ],
      "metadata": {
        "colab": {
          "base_uri": "https://localhost:8080/"
        },
        "id": "XqoD3Qecsvgd",
        "outputId": "33101dee-b093-4d0e-caf5-7a1e498dd8bd"
      },
      "execution_count": 79,
      "outputs": [
        {
          "output_type": "execute_result",
          "data": {
            "text/plain": [
              "137279727701936"
            ]
          },
          "metadata": {},
          "execution_count": 79
        }
      ]
    },
    {
      "cell_type": "code",
      "source": [
        "b = a.clone()\n",
        "b"
      ],
      "metadata": {
        "colab": {
          "base_uri": "https://localhost:8080/"
        },
        "id": "K52MKBxos16o",
        "outputId": "0957396c-ec24-4234-c2b7-ea9c0b268516"
      },
      "execution_count": 81,
      "outputs": [
        {
          "output_type": "execute_result",
          "data": {
            "text/plain": [
              "tensor([[0.0000, 0.9605, 0.3271],\n",
              "        [0.0103, 0.9516, 0.2855]])"
            ]
          },
          "metadata": {},
          "execution_count": 81
        }
      ]
    },
    {
      "cell_type": "code",
      "source": [
        "a[0][0] = 10\n",
        "a"
      ],
      "metadata": {
        "colab": {
          "base_uri": "https://localhost:8080/"
        },
        "id": "NK_Pkbbfs7E2",
        "outputId": "86be2c97-9084-4f09-947d-4704bc91e2e2"
      },
      "execution_count": 83,
      "outputs": [
        {
          "output_type": "execute_result",
          "data": {
            "text/plain": [
              "tensor([[10.0000,  0.9605,  0.3271],\n",
              "        [ 0.0103,  0.9516,  0.2855]])"
            ]
          },
          "metadata": {},
          "execution_count": 83
        }
      ]
    },
    {
      "cell_type": "code",
      "source": [
        "b"
      ],
      "metadata": {
        "colab": {
          "base_uri": "https://localhost:8080/"
        },
        "id": "tMT-VqTwtA_z",
        "outputId": "a45a5d88-49ca-4876-c9a8-78562affcb9a"
      },
      "execution_count": 84,
      "outputs": [
        {
          "output_type": "execute_result",
          "data": {
            "text/plain": [
              "tensor([[0.0000, 0.9605, 0.3271],\n",
              "        [0.0103, 0.9516, 0.2855]])"
            ]
          },
          "metadata": {},
          "execution_count": 84
        }
      ]
    },
    {
      "cell_type": "markdown",
      "source": [
        "# Tensor Operations on GPU"
      ],
      "metadata": {
        "id": "4mjp1ihRtHTt"
      }
    },
    {
      "cell_type": "code",
      "source": [
        "torch.cuda.is_available()"
      ],
      "metadata": {
        "colab": {
          "base_uri": "https://localhost:8080/"
        },
        "id": "ciMCJIlBtKKy",
        "outputId": "cab20578-bdba-4f36-df8b-1583cb578d5a"
      },
      "execution_count": 85,
      "outputs": [
        {
          "output_type": "execute_result",
          "data": {
            "text/plain": [
              "True"
            ]
          },
          "metadata": {},
          "execution_count": 85
        }
      ]
    },
    {
      "cell_type": "code",
      "source": [
        "device = torch.device('cuda')"
      ],
      "metadata": {
        "id": "Z53tlgYYtUFp"
      },
      "execution_count": 86,
      "outputs": []
    },
    {
      "cell_type": "code",
      "source": [
        "torch.rand((2,3),device=device)"
      ],
      "metadata": {
        "colab": {
          "base_uri": "https://localhost:8080/"
        },
        "id": "0gtcz4c2taeC",
        "outputId": "cc3f6d0f-0987-4732-824a-65622e531130"
      },
      "execution_count": 87,
      "outputs": [
        {
          "output_type": "execute_result",
          "data": {
            "text/plain": [
              "tensor([[0.3563, 0.0303, 0.7088],\n",
              "        [0.2009, 0.0224, 0.9896]], device='cuda:0')"
            ]
          },
          "metadata": {},
          "execution_count": 87
        }
      ]
    },
    {
      "cell_type": "code",
      "source": [
        "a = torch.rand(2,3)"
      ],
      "metadata": {
        "id": "WUOnz7STtiCr"
      },
      "execution_count": 88,
      "outputs": []
    },
    {
      "cell_type": "code",
      "source": [
        "b= a.to(device)\n",
        "b + 5"
      ],
      "metadata": {
        "colab": {
          "base_uri": "https://localhost:8080/"
        },
        "id": "Db2dXf5ztrg6",
        "outputId": "8bf20ca4-c65d-4839-a429-61bb2204f6a5"
      },
      "execution_count": 91,
      "outputs": [
        {
          "output_type": "execute_result",
          "data": {
            "text/plain": [
              "tensor([[5.2324, 5.9141, 5.7668],\n",
              "        [5.1659, 5.4393, 5.2243]], device='cuda:0')"
            ]
          },
          "metadata": {},
          "execution_count": 91
        }
      ]
    },
    {
      "cell_type": "markdown",
      "source": [
        "# Difference Between GCP and CPU"
      ],
      "metadata": {
        "id": "VhxPuNvWuN0w"
      }
    },
    {
      "cell_type": "code",
      "source": [
        "import time\n",
        "\n",
        "size = 10000\n",
        "\n",
        "matrix_cpu1 = torch.rand(size,size)\n",
        "matrix_cpu2 = torch.rand(size,size)\n",
        "\n",
        "start_time = time.time()\n",
        "result_cpu = torch.mm(matrix_cpu1,matrix_cpu2)\n",
        "end_time = time.time()\n",
        "\n",
        "print(\"CPU Time:\", end_time - start_time)\n",
        "\n",
        "# Move matrices to GPU\n",
        "matrix_gpu1 = matrix_cpu1.to(device)\n",
        "matrix_gpu2 = matrix_cpu2.to(device)\n",
        "\n",
        "# Measure time on GPU\n",
        "start_time_gpu = time.time()\n",
        "result_gpu = torch.mm(matrix_gpu1, matrix_gpu2)\n",
        "end_time_gpu = time.time()\n",
        "\n",
        "print(\"GPU Time:\", end_time_gpu - start_time_gpu)\n",
        "# Compare results\n",
        "print(\"CPU Result:\", result_cpu)\n",
        "print(\"GPU Result:\", result_gpu)\n"
      ],
      "metadata": {
        "colab": {
          "base_uri": "https://localhost:8080/"
        },
        "id": "LHDOGmPfuSR_",
        "outputId": "fab48ad0-2198-47d9-af22-90a9869aea45"
      },
      "execution_count": 93,
      "outputs": [
        {
          "output_type": "stream",
          "name": "stdout",
          "text": [
            "CPU Time: 18.214244604110718\n",
            "GPU Time: 0.012862205505371094\n",
            "CPU Result: tensor([[2503.5139, 2500.8469, 2511.3894,  ..., 2495.6399, 2509.4795,\n",
            "         2495.6240],\n",
            "        [2488.1318, 2513.6084, 2508.6616,  ..., 2506.0132, 2509.0264,\n",
            "         2482.8477],\n",
            "        [2490.4661, 2502.9270, 2497.3391,  ..., 2504.8740, 2513.4248,\n",
            "         2489.3958],\n",
            "        ...,\n",
            "        [2517.8594, 2497.0125, 2508.7952,  ..., 2506.6306, 2518.1785,\n",
            "         2504.4927],\n",
            "        [2518.1353, 2563.0789, 2541.9482,  ..., 2549.4521, 2554.4150,\n",
            "         2541.9602],\n",
            "        [2518.5620, 2537.4807, 2531.1555,  ..., 2534.3381, 2524.6868,\n",
            "         2507.5249]])\n",
            "GPU Result: tensor([[2503.5144, 2500.8459, 2511.3857,  ..., 2495.6406, 2509.4785,\n",
            "         2495.6289],\n",
            "        [2488.1331, 2513.6096, 2508.6633,  ..., 2506.0139, 2509.0271,\n",
            "         2482.8469],\n",
            "        [2490.4692, 2502.9285, 2497.3416,  ..., 2504.8792, 2513.4231,\n",
            "         2489.3970],\n",
            "        ...,\n",
            "        [2517.8494, 2497.0107, 2508.7937,  ..., 2506.6294, 2518.1807,\n",
            "         2504.4958],\n",
            "        [2518.1345, 2563.0757, 2541.9480,  ..., 2549.4512, 2554.4131,\n",
            "         2541.9568],\n",
            "        [2518.5549, 2537.4832, 2531.1560,  ..., 2534.3442, 2524.6895,\n",
            "         2507.5261]], device='cuda:0')\n"
          ]
        }
      ]
    },
    {
      "cell_type": "markdown",
      "source": [
        "# Tensor Reshape"
      ],
      "metadata": {
        "id": "RXZYPvzAvlgb"
      }
    },
    {
      "cell_type": "code",
      "source": [
        "a = torch.rand(4,4)\n",
        "a"
      ],
      "metadata": {
        "colab": {
          "base_uri": "https://localhost:8080/"
        },
        "id": "JHVqreWcvn3L",
        "outputId": "b02a2454-df08-46fc-f538-0440798bdaf6"
      },
      "execution_count": 94,
      "outputs": [
        {
          "output_type": "execute_result",
          "data": {
            "text/plain": [
              "tensor([[0.2147, 0.8954, 0.0273, 0.6760],\n",
              "        [0.8880, 0.2082, 0.1337, 0.6727],\n",
              "        [0.1681, 0.0738, 0.1151, 0.0083],\n",
              "        [0.0504, 0.1486, 0.8395, 0.8331]])"
            ]
          },
          "metadata": {},
          "execution_count": 94
        }
      ]
    },
    {
      "cell_type": "code",
      "source": [
        "a.reshape(2,2,2,2)"
      ],
      "metadata": {
        "colab": {
          "base_uri": "https://localhost:8080/"
        },
        "id": "ddmOiv_xv_co",
        "outputId": "181f991a-fcc3-45b7-8259-5b56374cb91f"
      },
      "execution_count": 95,
      "outputs": [
        {
          "output_type": "execute_result",
          "data": {
            "text/plain": [
              "tensor([[[[0.2147, 0.8954],\n",
              "          [0.0273, 0.6760]],\n",
              "\n",
              "         [[0.8880, 0.2082],\n",
              "          [0.1337, 0.6727]]],\n",
              "\n",
              "\n",
              "        [[[0.1681, 0.0738],\n",
              "          [0.1151, 0.0083]],\n",
              "\n",
              "         [[0.0504, 0.1486],\n",
              "          [0.8395, 0.8331]]]])"
            ]
          },
          "metadata": {},
          "execution_count": 95
        }
      ]
    },
    {
      "cell_type": "code",
      "source": [
        "a.flatten()\n"
      ],
      "metadata": {
        "colab": {
          "base_uri": "https://localhost:8080/"
        },
        "id": "KRNcv34NwEli",
        "outputId": "8bdf43b3-ca7a-4b62-c9fc-494b0df7f137"
      },
      "execution_count": 96,
      "outputs": [
        {
          "output_type": "execute_result",
          "data": {
            "text/plain": [
              "tensor([0.2147, 0.8954, 0.0273, 0.6760, 0.8880, 0.2082, 0.1337, 0.6727, 0.1681,\n",
              "        0.0738, 0.1151, 0.0083, 0.0504, 0.1486, 0.8395, 0.8331])"
            ]
          },
          "metadata": {},
          "execution_count": 96
        }
      ]
    },
    {
      "cell_type": "code",
      "source": [
        "b = torch.rand(2,3,4)\n",
        "b"
      ],
      "metadata": {
        "colab": {
          "base_uri": "https://localhost:8080/"
        },
        "id": "HclKA9RcwJcv",
        "outputId": "4f86e756-5d2a-44f5-80d8-b033c96bff32"
      },
      "execution_count": 97,
      "outputs": [
        {
          "output_type": "execute_result",
          "data": {
            "text/plain": [
              "tensor([[[0.4379, 0.4083, 0.5009, 0.4067],\n",
              "         [0.9891, 0.1025, 0.9936, 0.3642],\n",
              "         [0.8499, 0.3817, 0.2436, 0.1008]],\n",
              "\n",
              "        [[0.1176, 0.3651, 0.4549, 0.8776],\n",
              "         [0.3721, 0.7827, 0.4926, 0.7323],\n",
              "         [0.4682, 0.4369, 0.3151, 0.6987]]])"
            ]
          },
          "metadata": {},
          "execution_count": 97
        }
      ]
    },
    {
      "cell_type": "code",
      "source": [
        "b.permute(2,0,1).shape"
      ],
      "metadata": {
        "colab": {
          "base_uri": "https://localhost:8080/"
        },
        "id": "WWs6lti-wOaM",
        "outputId": "4395ea85-ad37-4c2e-da86-4d6a63f461de"
      },
      "execution_count": 99,
      "outputs": [
        {
          "output_type": "execute_result",
          "data": {
            "text/plain": [
              "torch.Size([4, 2, 3])"
            ]
          },
          "metadata": {},
          "execution_count": 99
        }
      ]
    },
    {
      "cell_type": "code",
      "source": [
        "c = torch.rand(226,226,3)"
      ],
      "metadata": {
        "id": "j4kY1vzQwcsR"
      },
      "execution_count": 100,
      "outputs": []
    },
    {
      "cell_type": "code",
      "source": [
        "c.unsqueeze(0).shape"
      ],
      "metadata": {
        "colab": {
          "base_uri": "https://localhost:8080/"
        },
        "id": "yAKR7jQYwlV8",
        "outputId": "f535ae01-991e-4ec7-d3d2-d976555f7829"
      },
      "execution_count": 101,
      "outputs": [
        {
          "output_type": "execute_result",
          "data": {
            "text/plain": [
              "torch.Size([1, 226, 226, 3])"
            ]
          },
          "metadata": {},
          "execution_count": 101
        }
      ]
    },
    {
      "cell_type": "markdown",
      "source": [
        "# NumPy and PyTorch"
      ],
      "metadata": {
        "id": "l5Mr7SUnxJSA"
      }
    },
    {
      "cell_type": "code",
      "source": [
        "import numpy as np"
      ],
      "metadata": {
        "id": "q-l8aQToxN5T"
      },
      "execution_count": 102,
      "outputs": []
    },
    {
      "cell_type": "code",
      "source": [
        " a = torch. tensor([1,2,3])\n",
        " a"
      ],
      "metadata": {
        "colab": {
          "base_uri": "https://localhost:8080/"
        },
        "id": "J4_Vr0bLxRc7",
        "outputId": "19e26d58-4db3-4e84-fea4-b6a9161efd1f"
      },
      "execution_count": 103,
      "outputs": [
        {
          "output_type": "execute_result",
          "data": {
            "text/plain": [
              "tensor([1, 2, 3])"
            ]
          },
          "metadata": {},
          "execution_count": 103
        }
      ]
    },
    {
      "cell_type": "code",
      "source": [
        "b = a.numpy()\n",
        "type(b)"
      ],
      "metadata": {
        "colab": {
          "base_uri": "https://localhost:8080/"
        },
        "id": "nQTZ5Fy_xaA3",
        "outputId": "b232ac9e-82ba-482b-c6f4-a5067766f11d"
      },
      "execution_count": 105,
      "outputs": [
        {
          "output_type": "execute_result",
          "data": {
            "text/plain": [
              "numpy.ndarray"
            ]
          },
          "metadata": {},
          "execution_count": 105
        }
      ]
    },
    {
      "cell_type": "code",
      "source": [
        "c = np.array([1,2,3])\n",
        "c"
      ],
      "metadata": {
        "colab": {
          "base_uri": "https://localhost:8080/"
        },
        "id": "X9HcUMSexg_w",
        "outputId": "00d214f6-aa10-43f6-9647-9b6e6900ed82"
      },
      "execution_count": 106,
      "outputs": [
        {
          "output_type": "execute_result",
          "data": {
            "text/plain": [
              "array([1, 2, 3])"
            ]
          },
          "metadata": {},
          "execution_count": 106
        }
      ]
    },
    {
      "cell_type": "code",
      "source": [
        "torch.from_numpy(c)"
      ],
      "metadata": {
        "colab": {
          "base_uri": "https://localhost:8080/"
        },
        "id": "8mvGmwyAxnNe",
        "outputId": "e34f419a-486f-403a-a990-05e3f2b64892"
      },
      "execution_count": 107,
      "outputs": [
        {
          "output_type": "execute_result",
          "data": {
            "text/plain": [
              "tensor([1, 2, 3])"
            ]
          },
          "metadata": {},
          "execution_count": 107
        }
      ]
    }
  ]
}