{
  "nbformat": 4,
  "nbformat_minor": 0,
  "metadata": {
    "colab": {
      "provenance": []
    },
    "kernelspec": {
      "name": "python3",
      "display_name": "Python 3"
    },
    "language_info": {
      "name": "python"
    }
  },
  "cells": [
    {
      "cell_type": "code",
      "execution_count": 1,
      "metadata": {
        "colab": {
          "base_uri": "https://localhost:8080/"
        },
        "id": "Yb47UhNTSvjh",
        "outputId": "7ec9e72d-78f9-4c5e-f484-016d5f52dae4"
      },
      "outputs": [
        {
          "output_type": "stream",
          "name": "stdout",
          "text": [
            "Requirement already satisfied: nltk in /usr/local/lib/python3.11/dist-packages (3.9.1)\n",
            "Requirement already satisfied: click in /usr/local/lib/python3.11/dist-packages (from nltk) (8.1.8)\n",
            "Requirement already satisfied: joblib in /usr/local/lib/python3.11/dist-packages (from nltk) (1.4.2)\n",
            "Requirement already satisfied: regex>=2021.8.3 in /usr/local/lib/python3.11/dist-packages (from nltk) (2024.11.6)\n",
            "Requirement already satisfied: tqdm in /usr/local/lib/python3.11/dist-packages (from nltk) (4.67.1)\n"
          ]
        }
      ],
      "source": [
        "!pip install nltk"
      ]
    },
    {
      "cell_type": "code",
      "source": [
        "import torch\n",
        "import torch.nn as nn\n",
        "import torch.optim as optim\n",
        "import numpy as np\n",
        "from collections import Counter\n",
        "from torch.utils.data import Dataset, DataLoader\n",
        "from nltk.tokenize import word_tokenize\n",
        "import nltk"
      ],
      "metadata": {
        "id": "4UrmI698S7e1"
      },
      "execution_count": 2,
      "outputs": []
    },
    {
      "cell_type": "code",
      "source": [
        "document = \"\"\"About the Program\n",
        "What is the course fee for  Data Science Mentorship\n",
        "The course follows a monthly subscription model where you have to make monthly payments of Rs 799/month.\n",
        "What is the total duration of the course?\n",
        "The total duration of the course is 7 months. So the total course fee becomes 799*7 = Rs 5600(approx.)\n",
        "What is the syllabus of the mentorship program?\n",
        "We will be covering the following modules:\n",
        "Python Fundamentals\n",
        "Python libraries for Data Science\n",
        "Data Analysis\n",
        "SQL for Data Science\n",
        "Maths for Machine Learning\n",
        "ML Algorithms\n",
        "Practical ML\n",
        "MLOPs\n",
        "Case studies\n",
        "You can check the detailed syllabus here\n",
        "Will Deep Learning and NLP be a part of this program?\n",
        "No, NLP and Deep Learning both are not a part of this program’s curriculum.\n",
        "What if I miss a live session? Will I get a recording of the session?\n",
        "Yes all our sessions are recorded, so even if you miss a session you can go back and watch the recording.\n",
        "Where can I find the class schedule?\n",
        "Checkout this google sheet to see month by month time table of the course\n",
        "What is the time duration of all the live sessions?\n",
        "Roughly, all the sessions last 2 hours.\n",
        "What is the language spoken by the instructor during the sessions?\n",
        "Hinglish\n",
        "How will I be informed about the upcoming class?\n",
        "You will get a mail from our side before every paid session once you become a paid user.\n",
        "Can I do this course if I am from a non-tech background?\n",
        "Yes, absolutely.\n",
        "I am late, can I join the program in the middle?\n",
        "Absolutely, you can join the program anytime.\n",
        "If I join/pay in the middle, will I be able to see all the past lectures?\n",
        "Yes, once you make the payment you will be able to see all the past content in your dashboard.\n",
        "Where do I have to submit the task?\n",
        "You don’t have to submit the task. We will provide you with the solutions, you have to self evaluate the task yourself.\n",
        "Will we do case studies in the program?\n",
        "Yes.\n",
        "Where can we contact you?\n",
        "You can mail us at\n",
        "Payment/Registration related questions\n",
        "Where do we have to make our payments? Your YouTube channel or website?\n",
        "You have to make all your monthly payments on our website. Here is the link for our website\n",
        "Can we pay the entire amount of Rs 5600 all at once?\n",
        "Unfortunately no, the program follows a monthly subscription model.\n",
        "What is the validity of monthly subscription? Suppose if I pay on 15th Jan, then do I have to pay again on 1st Feb or 15th Feb\n",
        "15th Feb. The validity period is 30 days from the day you make the payment. So essentially you can join anytime you don’t have to wait for a month to end.\n",
        "What if I don’t like the course after making the payment. What is the refund policy?\n",
        "You get a 7 days refund period from the day you have made the payment.\n",
        "I am living outside India and I am not able to make the payment on the website, what should I do?\n",
        "You have to contact us by sending a mail at\n",
        "Post registration queries\n",
        "Till when can I view the paid videos on the website?\n",
        "This one is tricky, so read carefully. You can watch the videos till your subscription is valid. Suppose you have purchased subscription on 21st Jan, you will be able to watch all the past paid sessions in the period of 21st Jan to 20th Feb. But after 21st Feb you will have to purchase the subscription again.\n",
        "But once the course is over and you have paid us Rs 5600(or 7 installments of Rs 799) you will be able to watch the paid sessions till Aug 2024.\n",
        "Why lifetime validity is not provided?\n",
        "Because of the low course fee.\n",
        "Where can I reach out in case of a doubt after the session?\n",
        "You will have to fill a google form provided in your dashboard and our team will contact you for a 1 on 1 doubt clearance session\n",
        "If I join the program late, can I still ask past week doubts?\n",
        "Yes, just select past week doubt in the doubt clearance google form.\n",
        "I am living outside India and I am not able to make the payment on the website, what should I do?\n",
        "You have to contact us by sending a mail at nitish.campusx@gmai.com\n",
        "Certificate and Placement Assistance related queries\n",
        "What is the criteria to get the certificate?\n",
        "There are 2 criterias:\n",
        "You have to pay the entire fee of Rs 5600\n",
        "You have to attempt all the course assessments.\n",
        "I am joining late. How can I pay payment of the earlier months?\n",
        "You will get a link to pay fee of earlier months in your dashboard once you pay for the current month.\n",
        "I have read that Placement assistance is a part of this program. What comes under Placement assistance?\n",
        "This is to clarify that Placement assistance does not mean Placement guarantee. So we dont guarantee you any jobs or for that matter even interview calls. So if you are planning to join this course just for placements, I am afraid you will be disappointed. Here is what comes under placement assistance\n",
        "Portfolio Building sessions\n",
        "Soft skill sessions\n",
        "Sessions with industry mentors\n",
        "Discussion on Job hunting strategies\n",
        "\"\"\"\n"
      ],
      "metadata": {
        "id": "jT7z5vShTBlL"
      },
      "execution_count": 3,
      "outputs": []
    },
    {
      "cell_type": "code",
      "source": [
        "# Tokenization\n",
        "nltk.download('punkt')\n",
        "nltk.download('punkt_tab')"
      ],
      "metadata": {
        "colab": {
          "base_uri": "https://localhost:8080/"
        },
        "id": "PffGmfThTds_",
        "outputId": "c1b24eaa-2a1b-47da-a984-aabe36026b57"
      },
      "execution_count": 4,
      "outputs": [
        {
          "output_type": "stream",
          "name": "stderr",
          "text": [
            "[nltk_data] Downloading package punkt to /root/nltk_data...\n",
            "[nltk_data]   Unzipping tokenizers/punkt.zip.\n",
            "[nltk_data] Downloading package punkt_tab to /root/nltk_data...\n",
            "[nltk_data]   Unzipping tokenizers/punkt_tab.zip.\n"
          ]
        },
        {
          "output_type": "execute_result",
          "data": {
            "text/plain": [
              "True"
            ]
          },
          "metadata": {},
          "execution_count": 4
        }
      ]
    },
    {
      "cell_type": "code",
      "source": [
        "# Tokenize\n",
        "tokens = word_tokenize(document.lower())"
      ],
      "metadata": {
        "id": "BmWM8ZaETtYG"
      },
      "execution_count": 8,
      "outputs": []
    },
    {
      "cell_type": "code",
      "source": [
        "# Build a Vocabulary\n",
        "vocab = {'<unk>':0}\n",
        "\n",
        "for token in Counter(tokens).keys():\n",
        "  if token not in vocab:\n",
        "    vocab[token] = len(vocab)\n",
        "\n",
        "print(vocab)"
      ],
      "metadata": {
        "colab": {
          "base_uri": "https://localhost:8080/"
        },
        "id": "3QRfQ4lLT_s1",
        "outputId": "dd9df796-a535-4781-c227-7d428e201b0f"
      },
      "execution_count": 10,
      "outputs": [
        {
          "output_type": "stream",
          "name": "stdout",
          "text": [
            "{'<unk>': 0, 'about': 1, 'the': 2, 'program': 3, 'what': 4, 'is': 5, 'course': 6, 'fee': 7, 'for': 8, 'data': 9, 'science': 10, 'mentorship': 11, 'follows': 12, 'a': 13, 'monthly': 14, 'subscription': 15, 'model': 16, 'where': 17, 'you': 18, 'have': 19, 'to': 20, 'make': 21, 'payments': 22, 'of': 23, 'rs': 24, '799/month': 25, '.': 26, 'total': 27, 'duration': 28, '?': 29, '7': 30, 'months': 31, 'so': 32, 'becomes': 33, '799': 34, '*': 35, '=': 36, '5600': 37, '(': 38, 'approx': 39, ')': 40, 'syllabus': 41, 'we': 42, 'will': 43, 'be': 44, 'covering': 45, 'following': 46, 'modules': 47, ':': 48, 'python': 49, 'fundamentals': 50, 'libraries': 51, 'analysis': 52, 'sql': 53, 'maths': 54, 'machine': 55, 'learning': 56, 'ml': 57, 'algorithms': 58, 'practical': 59, 'mlops': 60, 'case': 61, 'studies': 62, 'can': 63, 'check': 64, 'detailed': 65, 'here': 66, 'deep': 67, 'and': 68, 'nlp': 69, 'part': 70, 'this': 71, 'no': 72, ',': 73, 'both': 74, 'are': 75, 'not': 76, '’': 77, 's': 78, 'curriculum': 79, 'if': 80, 'i': 81, 'miss': 82, 'live': 83, 'session': 84, 'get': 85, 'recording': 86, 'yes': 87, 'all': 88, 'our': 89, 'sessions': 90, 'recorded': 91, 'even': 92, 'go': 93, 'back': 94, 'watch': 95, 'find': 96, 'class': 97, 'schedule': 98, 'checkout': 99, 'google': 100, 'sheet': 101, 'see': 102, 'month': 103, 'by': 104, 'time': 105, 'table': 106, 'roughly': 107, 'last': 108, '2': 109, 'hours': 110, 'language': 111, 'spoken': 112, 'instructor': 113, 'during': 114, 'hinglish': 115, 'how': 116, 'informed': 117, 'upcoming': 118, 'mail': 119, 'from': 120, 'side': 121, 'before': 122, 'every': 123, 'paid': 124, 'once': 125, 'become': 126, 'user': 127, 'do': 128, 'am': 129, 'non-tech': 130, 'background': 131, 'absolutely': 132, 'late': 133, 'join': 134, 'in': 135, 'middle': 136, 'anytime': 137, 'join/pay': 138, 'able': 139, 'past': 140, 'lectures': 141, 'payment': 142, 'content': 143, 'your': 144, 'dashboard': 145, 'submit': 146, 'task': 147, 'don': 148, 't': 149, 'provide': 150, 'with': 151, 'solutions': 152, 'self': 153, 'evaluate': 154, 'yourself': 155, 'contact': 156, 'us': 157, 'at': 158, 'payment/registration': 159, 'related': 160, 'questions': 161, 'youtube': 162, 'channel': 163, 'or': 164, 'website': 165, 'on': 166, 'link': 167, 'pay': 168, 'entire': 169, 'amount': 170, 'unfortunately': 171, 'validity': 172, 'suppose': 173, '15th': 174, 'jan': 175, 'then': 176, 'again': 177, '1st': 178, 'feb': 179, 'feb.': 180, 'period': 181, '30': 182, 'days': 183, 'day': 184, 'essentially': 185, 'wait': 186, 'end': 187, 'like': 188, 'after': 189, 'making': 190, 'refund': 191, 'policy': 192, 'made': 193, 'living': 194, 'outside': 195, 'india': 196, 'should': 197, 'sending': 198, 'post': 199, 'registration': 200, 'queries': 201, 'till': 202, 'when': 203, 'view': 204, 'videos': 205, 'one': 206, 'tricky': 207, 'read': 208, 'carefully': 209, 'valid': 210, 'purchased': 211, '21st': 212, '20th': 213, 'but': 214, 'purchase': 215, 'over': 216, 'installments': 217, 'aug': 218, '2024.': 219, 'why': 220, 'lifetime': 221, 'provided': 222, 'because': 223, 'low': 224, 'reach': 225, 'out': 226, 'doubt': 227, 'fill': 228, 'form': 229, 'team': 230, '1': 231, 'clearance': 232, 'still': 233, 'ask': 234, 'week': 235, 'doubts': 236, 'just': 237, 'select': 238, 'nitish.campusx': 239, '@': 240, 'gmai.com': 241, 'certificate': 242, 'placement': 243, 'assistance': 244, 'criteria': 245, 'there': 246, 'criterias': 247, 'attempt': 248, 'assessments': 249, 'joining': 250, 'earlier': 251, 'current': 252, 'that': 253, 'comes': 254, 'under': 255, 'clarify': 256, 'does': 257, 'mean': 258, 'guarantee': 259, 'dont': 260, 'any': 261, 'jobs': 262, 'matter': 263, 'interview': 264, 'calls': 265, 'planning': 266, 'placements': 267, 'afraid': 268, 'disappointed': 269, 'portfolio': 270, 'building': 271, 'soft': 272, 'skill': 273, 'industry': 274, 'mentors': 275, 'discussion': 276, 'job': 277, 'hunting': 278, 'strategies': 279}\n"
          ]
        }
      ]
    },
    {
      "cell_type": "code",
      "source": [
        "len(vocab)"
      ],
      "metadata": {
        "colab": {
          "base_uri": "https://localhost:8080/"
        },
        "id": "ngbqvT9jU3Tx",
        "outputId": "4d9c88c8-c16b-4e3f-85f1-fdf0ba70b726"
      },
      "execution_count": 11,
      "outputs": [
        {
          "output_type": "execute_result",
          "data": {
            "text/plain": [
              "280"
            ]
          },
          "metadata": {},
          "execution_count": 11
        }
      ]
    },
    {
      "cell_type": "code",
      "source": [
        "# Extract Sentences from Data\n",
        "input_sentence = document.split('\\n')\n",
        "input_sentence\n"
      ],
      "metadata": {
        "colab": {
          "base_uri": "https://localhost:8080/"
        },
        "id": "PC-xZHLuU9BZ",
        "outputId": "07d6c62f-7140-4fcb-aaae-f63675e650d9"
      },
      "execution_count": 13,
      "outputs": [
        {
          "output_type": "execute_result",
          "data": {
            "text/plain": [
              "['About the Program',\n",
              " 'What is the course fee for  Data Science Mentorship',\n",
              " 'The course follows a monthly subscription model where you have to make monthly payments of Rs 799/month.',\n",
              " 'What is the total duration of the course?',\n",
              " 'The total duration of the course is 7 months. So the total course fee becomes 799*7 = Rs 5600(approx.)',\n",
              " 'What is the syllabus of the mentorship program?',\n",
              " 'We will be covering the following modules:',\n",
              " 'Python Fundamentals',\n",
              " 'Python libraries for Data Science',\n",
              " 'Data Analysis',\n",
              " 'SQL for Data Science',\n",
              " 'Maths for Machine Learning',\n",
              " 'ML Algorithms',\n",
              " 'Practical ML',\n",
              " 'MLOPs',\n",
              " 'Case studies',\n",
              " 'You can check the detailed syllabus here',\n",
              " 'Will Deep Learning and NLP be a part of this program?',\n",
              " 'No, NLP and Deep Learning both are not a part of this program’s curriculum.',\n",
              " 'What if I miss a live session? Will I get a recording of the session?',\n",
              " 'Yes all our sessions are recorded, so even if you miss a session you can go back and watch the recording.',\n",
              " 'Where can I find the class schedule?',\n",
              " 'Checkout this google sheet to see month by month time table of the course',\n",
              " 'What is the time duration of all the live sessions?',\n",
              " 'Roughly, all the sessions last 2 hours.',\n",
              " 'What is the language spoken by the instructor during the sessions?',\n",
              " 'Hinglish',\n",
              " 'How will I be informed about the upcoming class?',\n",
              " 'You will get a mail from our side before every paid session once you become a paid user.',\n",
              " 'Can I do this course if I am from a non-tech background?',\n",
              " 'Yes, absolutely.',\n",
              " 'I am late, can I join the program in the middle?',\n",
              " 'Absolutely, you can join the program anytime.',\n",
              " 'If I join/pay in the middle, will I be able to see all the past lectures?',\n",
              " 'Yes, once you make the payment you will be able to see all the past content in your dashboard.',\n",
              " 'Where do I have to submit the task?',\n",
              " 'You don’t have to submit the task. We will provide you with the solutions, you have to self evaluate the task yourself.',\n",
              " 'Will we do case studies in the program?',\n",
              " 'Yes.',\n",
              " 'Where can we contact you?',\n",
              " 'You can mail us at ',\n",
              " 'Payment/Registration related questions',\n",
              " 'Where do we have to make our payments? Your YouTube channel or website?',\n",
              " 'You have to make all your monthly payments on our website. Here is the link for our website',\n",
              " 'Can we pay the entire amount of Rs 5600 all at once?',\n",
              " 'Unfortunately no, the program follows a monthly subscription model.',\n",
              " 'What is the validity of monthly subscription? Suppose if I pay on 15th Jan, then do I have to pay again on 1st Feb or 15th Feb',\n",
              " '15th Feb. The validity period is 30 days from the day you make the payment. So essentially you can join anytime you don’t have to wait for a month to end.',\n",
              " 'What if I don’t like the course after making the payment. What is the refund policy?',\n",
              " 'You get a 7 days refund period from the day you have made the payment.',\n",
              " 'I am living outside India and I am not able to make the payment on the website, what should I do?',\n",
              " 'You have to contact us by sending a mail at ',\n",
              " 'Post registration queries',\n",
              " 'Till when can I view the paid videos on the website?',\n",
              " 'This one is tricky, so read carefully. You can watch the videos till your subscription is valid. Suppose you have purchased subscription on 21st Jan, you will be able to watch all the past paid sessions in the period of 21st Jan to 20th Feb. But after 21st Feb you will have to purchase the subscription again.',\n",
              " 'But once the course is over and you have paid us Rs 5600(or 7 installments of Rs 799) you will be able to watch the paid sessions till Aug 2024.',\n",
              " 'Why lifetime validity is not provided?',\n",
              " 'Because of the low course fee.',\n",
              " 'Where can I reach out in case of a doubt after the session?',\n",
              " 'You will have to fill a google form provided in your dashboard and our team will contact you for a 1 on 1 doubt clearance session',\n",
              " 'If I join the program late, can I still ask past week doubts?',\n",
              " 'Yes, just select past week doubt in the doubt clearance google form.',\n",
              " 'I am living outside India and I am not able to make the payment on the website, what should I do?',\n",
              " 'You have to contact us by sending a mail at nitish.campusx@gmai.com',\n",
              " 'Certificate and Placement Assistance related queries',\n",
              " 'What is the criteria to get the certificate?',\n",
              " 'There are 2 criterias:',\n",
              " 'You have to pay the entire fee of Rs 5600',\n",
              " 'You have to attempt all the course assessments.',\n",
              " 'I am joining late. How can I pay payment of the earlier months?',\n",
              " 'You will get a link to pay fee of earlier months in your dashboard once you pay for the current month.',\n",
              " 'I have read that Placement assistance is a part of this program. What comes under Placement assistance?',\n",
              " 'This is to clarify that Placement assistance does not mean Placement guarantee. So we dont guarantee you any jobs or for that matter even interview calls. So if you are planning to join this course just for placements, I am afraid you will be disappointed. Here is what comes under placement assistance',\n",
              " 'Portfolio Building sessions',\n",
              " 'Soft skill sessions',\n",
              " 'Sessions with industry mentors',\n",
              " 'Discussion on Job hunting strategies',\n",
              " '']"
            ]
          },
          "metadata": {},
          "execution_count": 13
        }
      ]
    },
    {
      "cell_type": "code",
      "source": [
        "for sentence in input_sentence:\n",
        "  print(word_tokenize(sentence.lower()))"
      ],
      "metadata": {
        "colab": {
          "base_uri": "https://localhost:8080/"
        },
        "id": "Iq6jghboXxa9",
        "outputId": "2cb05b0a-e7f1-43f2-d62d-6b94b887d569"
      },
      "execution_count": 14,
      "outputs": [
        {
          "output_type": "stream",
          "name": "stdout",
          "text": [
            "['about', 'the', 'program']\n",
            "['what', 'is', 'the', 'course', 'fee', 'for', 'data', 'science', 'mentorship']\n",
            "['the', 'course', 'follows', 'a', 'monthly', 'subscription', 'model', 'where', 'you', 'have', 'to', 'make', 'monthly', 'payments', 'of', 'rs', '799/month', '.']\n",
            "['what', 'is', 'the', 'total', 'duration', 'of', 'the', 'course', '?']\n",
            "['the', 'total', 'duration', 'of', 'the', 'course', 'is', '7', 'months', '.', 'so', 'the', 'total', 'course', 'fee', 'becomes', '799', '*', '7', '=', 'rs', '5600', '(', 'approx', '.', ')']\n",
            "['what', 'is', 'the', 'syllabus', 'of', 'the', 'mentorship', 'program', '?']\n",
            "['we', 'will', 'be', 'covering', 'the', 'following', 'modules', ':']\n",
            "['python', 'fundamentals']\n",
            "['python', 'libraries', 'for', 'data', 'science']\n",
            "['data', 'analysis']\n",
            "['sql', 'for', 'data', 'science']\n",
            "['maths', 'for', 'machine', 'learning']\n",
            "['ml', 'algorithms']\n",
            "['practical', 'ml']\n",
            "['mlops']\n",
            "['case', 'studies']\n",
            "['you', 'can', 'check', 'the', 'detailed', 'syllabus', 'here']\n",
            "['will', 'deep', 'learning', 'and', 'nlp', 'be', 'a', 'part', 'of', 'this', 'program', '?']\n",
            "['no', ',', 'nlp', 'and', 'deep', 'learning', 'both', 'are', 'not', 'a', 'part', 'of', 'this', 'program', '’', 's', 'curriculum', '.']\n",
            "['what', 'if', 'i', 'miss', 'a', 'live', 'session', '?', 'will', 'i', 'get', 'a', 'recording', 'of', 'the', 'session', '?']\n",
            "['yes', 'all', 'our', 'sessions', 'are', 'recorded', ',', 'so', 'even', 'if', 'you', 'miss', 'a', 'session', 'you', 'can', 'go', 'back', 'and', 'watch', 'the', 'recording', '.']\n",
            "['where', 'can', 'i', 'find', 'the', 'class', 'schedule', '?']\n",
            "['checkout', 'this', 'google', 'sheet', 'to', 'see', 'month', 'by', 'month', 'time', 'table', 'of', 'the', 'course']\n",
            "['what', 'is', 'the', 'time', 'duration', 'of', 'all', 'the', 'live', 'sessions', '?']\n",
            "['roughly', ',', 'all', 'the', 'sessions', 'last', '2', 'hours', '.']\n",
            "['what', 'is', 'the', 'language', 'spoken', 'by', 'the', 'instructor', 'during', 'the', 'sessions', '?']\n",
            "['hinglish']\n",
            "['how', 'will', 'i', 'be', 'informed', 'about', 'the', 'upcoming', 'class', '?']\n",
            "['you', 'will', 'get', 'a', 'mail', 'from', 'our', 'side', 'before', 'every', 'paid', 'session', 'once', 'you', 'become', 'a', 'paid', 'user', '.']\n",
            "['can', 'i', 'do', 'this', 'course', 'if', 'i', 'am', 'from', 'a', 'non-tech', 'background', '?']\n",
            "['yes', ',', 'absolutely', '.']\n",
            "['i', 'am', 'late', ',', 'can', 'i', 'join', 'the', 'program', 'in', 'the', 'middle', '?']\n",
            "['absolutely', ',', 'you', 'can', 'join', 'the', 'program', 'anytime', '.']\n",
            "['if', 'i', 'join/pay', 'in', 'the', 'middle', ',', 'will', 'i', 'be', 'able', 'to', 'see', 'all', 'the', 'past', 'lectures', '?']\n",
            "['yes', ',', 'once', 'you', 'make', 'the', 'payment', 'you', 'will', 'be', 'able', 'to', 'see', 'all', 'the', 'past', 'content', 'in', 'your', 'dashboard', '.']\n",
            "['where', 'do', 'i', 'have', 'to', 'submit', 'the', 'task', '?']\n",
            "['you', 'don', '’', 't', 'have', 'to', 'submit', 'the', 'task', '.', 'we', 'will', 'provide', 'you', 'with', 'the', 'solutions', ',', 'you', 'have', 'to', 'self', 'evaluate', 'the', 'task', 'yourself', '.']\n",
            "['will', 'we', 'do', 'case', 'studies', 'in', 'the', 'program', '?']\n",
            "['yes', '.']\n",
            "['where', 'can', 'we', 'contact', 'you', '?']\n",
            "['you', 'can', 'mail', 'us', 'at']\n",
            "['payment/registration', 'related', 'questions']\n",
            "['where', 'do', 'we', 'have', 'to', 'make', 'our', 'payments', '?', 'your', 'youtube', 'channel', 'or', 'website', '?']\n",
            "['you', 'have', 'to', 'make', 'all', 'your', 'monthly', 'payments', 'on', 'our', 'website', '.', 'here', 'is', 'the', 'link', 'for', 'our', 'website']\n",
            "['can', 'we', 'pay', 'the', 'entire', 'amount', 'of', 'rs', '5600', 'all', 'at', 'once', '?']\n",
            "['unfortunately', 'no', ',', 'the', 'program', 'follows', 'a', 'monthly', 'subscription', 'model', '.']\n",
            "['what', 'is', 'the', 'validity', 'of', 'monthly', 'subscription', '?', 'suppose', 'if', 'i', 'pay', 'on', '15th', 'jan', ',', 'then', 'do', 'i', 'have', 'to', 'pay', 'again', 'on', '1st', 'feb', 'or', '15th', 'feb']\n",
            "['15th', 'feb.', 'the', 'validity', 'period', 'is', '30', 'days', 'from', 'the', 'day', 'you', 'make', 'the', 'payment', '.', 'so', 'essentially', 'you', 'can', 'join', 'anytime', 'you', 'don', '’', 't', 'have', 'to', 'wait', 'for', 'a', 'month', 'to', 'end', '.']\n",
            "['what', 'if', 'i', 'don', '’', 't', 'like', 'the', 'course', 'after', 'making', 'the', 'payment', '.', 'what', 'is', 'the', 'refund', 'policy', '?']\n",
            "['you', 'get', 'a', '7', 'days', 'refund', 'period', 'from', 'the', 'day', 'you', 'have', 'made', 'the', 'payment', '.']\n",
            "['i', 'am', 'living', 'outside', 'india', 'and', 'i', 'am', 'not', 'able', 'to', 'make', 'the', 'payment', 'on', 'the', 'website', ',', 'what', 'should', 'i', 'do', '?']\n",
            "['you', 'have', 'to', 'contact', 'us', 'by', 'sending', 'a', 'mail', 'at']\n",
            "['post', 'registration', 'queries']\n",
            "['till', 'when', 'can', 'i', 'view', 'the', 'paid', 'videos', 'on', 'the', 'website', '?']\n",
            "['this', 'one', 'is', 'tricky', ',', 'so', 'read', 'carefully', '.', 'you', 'can', 'watch', 'the', 'videos', 'till', 'your', 'subscription', 'is', 'valid', '.', 'suppose', 'you', 'have', 'purchased', 'subscription', 'on', '21st', 'jan', ',', 'you', 'will', 'be', 'able', 'to', 'watch', 'all', 'the', 'past', 'paid', 'sessions', 'in', 'the', 'period', 'of', '21st', 'jan', 'to', '20th', 'feb.', 'but', 'after', '21st', 'feb', 'you', 'will', 'have', 'to', 'purchase', 'the', 'subscription', 'again', '.']\n",
            "['but', 'once', 'the', 'course', 'is', 'over', 'and', 'you', 'have', 'paid', 'us', 'rs', '5600', '(', 'or', '7', 'installments', 'of', 'rs', '799', ')', 'you', 'will', 'be', 'able', 'to', 'watch', 'the', 'paid', 'sessions', 'till', 'aug', '2024', '.']\n",
            "['why', 'lifetime', 'validity', 'is', 'not', 'provided', '?']\n",
            "['because', 'of', 'the', 'low', 'course', 'fee', '.']\n",
            "['where', 'can', 'i', 'reach', 'out', 'in', 'case', 'of', 'a', 'doubt', 'after', 'the', 'session', '?']\n",
            "['you', 'will', 'have', 'to', 'fill', 'a', 'google', 'form', 'provided', 'in', 'your', 'dashboard', 'and', 'our', 'team', 'will', 'contact', 'you', 'for', 'a', '1', 'on', '1', 'doubt', 'clearance', 'session']\n",
            "['if', 'i', 'join', 'the', 'program', 'late', ',', 'can', 'i', 'still', 'ask', 'past', 'week', 'doubts', '?']\n",
            "['yes', ',', 'just', 'select', 'past', 'week', 'doubt', 'in', 'the', 'doubt', 'clearance', 'google', 'form', '.']\n",
            "['i', 'am', 'living', 'outside', 'india', 'and', 'i', 'am', 'not', 'able', 'to', 'make', 'the', 'payment', 'on', 'the', 'website', ',', 'what', 'should', 'i', 'do', '?']\n",
            "['you', 'have', 'to', 'contact', 'us', 'by', 'sending', 'a', 'mail', 'at', 'nitish.campusx', '@', 'gmai.com']\n",
            "['certificate', 'and', 'placement', 'assistance', 'related', 'queries']\n",
            "['what', 'is', 'the', 'criteria', 'to', 'get', 'the', 'certificate', '?']\n",
            "['there', 'are', '2', 'criterias', ':']\n",
            "['you', 'have', 'to', 'pay', 'the', 'entire', 'fee', 'of', 'rs', '5600']\n",
            "['you', 'have', 'to', 'attempt', 'all', 'the', 'course', 'assessments', '.']\n",
            "['i', 'am', 'joining', 'late', '.', 'how', 'can', 'i', 'pay', 'payment', 'of', 'the', 'earlier', 'months', '?']\n",
            "['you', 'will', 'get', 'a', 'link', 'to', 'pay', 'fee', 'of', 'earlier', 'months', 'in', 'your', 'dashboard', 'once', 'you', 'pay', 'for', 'the', 'current', 'month', '.']\n",
            "['i', 'have', 'read', 'that', 'placement', 'assistance', 'is', 'a', 'part', 'of', 'this', 'program', '.', 'what', 'comes', 'under', 'placement', 'assistance', '?']\n",
            "['this', 'is', 'to', 'clarify', 'that', 'placement', 'assistance', 'does', 'not', 'mean', 'placement', 'guarantee', '.', 'so', 'we', 'dont', 'guarantee', 'you', 'any', 'jobs', 'or', 'for', 'that', 'matter', 'even', 'interview', 'calls', '.', 'so', 'if', 'you', 'are', 'planning', 'to', 'join', 'this', 'course', 'just', 'for', 'placements', ',', 'i', 'am', 'afraid', 'you', 'will', 'be', 'disappointed', '.', 'here', 'is', 'what', 'comes', 'under', 'placement', 'assistance']\n",
            "['portfolio', 'building', 'sessions']\n",
            "['soft', 'skill', 'sessions']\n",
            "['sessions', 'with', 'industry', 'mentors']\n",
            "['discussion', 'on', 'job', 'hunting', 'strategies']\n",
            "[]\n"
          ]
        }
      ]
    },
    {
      "cell_type": "code",
      "source": [
        "def text_to_indices(sentence, vocab):\n",
        "  numerical_sentence = []\n",
        "  for token in sentence:\n",
        "    if token in vocab:\n",
        "      numerical_sentence.append(vocab[token])\n",
        "    else:\n",
        "      numerical_sentence.append(vocab['<unk>'])\n",
        "  return numerical_sentence"
      ],
      "metadata": {
        "id": "jT2PqtsmYANl"
      },
      "execution_count": 15,
      "outputs": []
    },
    {
      "cell_type": "code",
      "source": [
        "input_numerical_sentences = []\n",
        "\n",
        "for sentence in input_sentence:\n",
        "  input_numerical_sentences.append(text_to_indices(word_tokenize(sentence.lower()), vocab))\n",
        "\n",
        "print(input_numerical_sentences)"
      ],
      "metadata": {
        "colab": {
          "base_uri": "https://localhost:8080/"
        },
        "id": "GXLI6tGGYo4j",
        "outputId": "610fbb6d-12e4-4e20-a5fc-026c6854a537"
      },
      "execution_count": 16,
      "outputs": [
        {
          "output_type": "stream",
          "name": "stdout",
          "text": [
            "[[1, 2, 3], [4, 5, 2, 6, 7, 8, 9, 10, 11], [2, 6, 12, 13, 14, 15, 16, 17, 18, 19, 20, 21, 14, 22, 23, 24, 25, 26], [4, 5, 2, 27, 28, 23, 2, 6, 29], [2, 27, 28, 23, 2, 6, 5, 30, 31, 26, 32, 2, 27, 6, 7, 33, 34, 35, 30, 36, 24, 37, 38, 39, 26, 40], [4, 5, 2, 41, 23, 2, 11, 3, 29], [42, 43, 44, 45, 2, 46, 47, 48], [49, 50], [49, 51, 8, 9, 10], [9, 52], [53, 8, 9, 10], [54, 8, 55, 56], [57, 58], [59, 57], [60], [61, 62], [18, 63, 64, 2, 65, 41, 66], [43, 67, 56, 68, 69, 44, 13, 70, 23, 71, 3, 29], [72, 73, 69, 68, 67, 56, 74, 75, 76, 13, 70, 23, 71, 3, 77, 78, 79, 26], [4, 80, 81, 82, 13, 83, 84, 29, 43, 81, 85, 13, 86, 23, 2, 84, 29], [87, 88, 89, 90, 75, 91, 73, 32, 92, 80, 18, 82, 13, 84, 18, 63, 93, 94, 68, 95, 2, 86, 26], [17, 63, 81, 96, 2, 97, 98, 29], [99, 71, 100, 101, 20, 102, 103, 104, 103, 105, 106, 23, 2, 6], [4, 5, 2, 105, 28, 23, 88, 2, 83, 90, 29], [107, 73, 88, 2, 90, 108, 109, 110, 26], [4, 5, 2, 111, 112, 104, 2, 113, 114, 2, 90, 29], [115], [116, 43, 81, 44, 117, 1, 2, 118, 97, 29], [18, 43, 85, 13, 119, 120, 89, 121, 122, 123, 124, 84, 125, 18, 126, 13, 124, 127, 26], [63, 81, 128, 71, 6, 80, 81, 129, 120, 13, 130, 131, 29], [87, 73, 132, 26], [81, 129, 133, 73, 63, 81, 134, 2, 3, 135, 2, 136, 29], [132, 73, 18, 63, 134, 2, 3, 137, 26], [80, 81, 138, 135, 2, 136, 73, 43, 81, 44, 139, 20, 102, 88, 2, 140, 141, 29], [87, 73, 125, 18, 21, 2, 142, 18, 43, 44, 139, 20, 102, 88, 2, 140, 143, 135, 144, 145, 26], [17, 128, 81, 19, 20, 146, 2, 147, 29], [18, 148, 77, 149, 19, 20, 146, 2, 147, 26, 42, 43, 150, 18, 151, 2, 152, 73, 18, 19, 20, 153, 154, 2, 147, 155, 26], [43, 42, 128, 61, 62, 135, 2, 3, 29], [87, 26], [17, 63, 42, 156, 18, 29], [18, 63, 119, 157, 158], [159, 160, 161], [17, 128, 42, 19, 20, 21, 89, 22, 29, 144, 162, 163, 164, 165, 29], [18, 19, 20, 21, 88, 144, 14, 22, 166, 89, 165, 26, 66, 5, 2, 167, 8, 89, 165], [63, 42, 168, 2, 169, 170, 23, 24, 37, 88, 158, 125, 29], [171, 72, 73, 2, 3, 12, 13, 14, 15, 16, 26], [4, 5, 2, 172, 23, 14, 15, 29, 173, 80, 81, 168, 166, 174, 175, 73, 176, 128, 81, 19, 20, 168, 177, 166, 178, 179, 164, 174, 179], [174, 180, 2, 172, 181, 5, 182, 183, 120, 2, 184, 18, 21, 2, 142, 26, 32, 185, 18, 63, 134, 137, 18, 148, 77, 149, 19, 20, 186, 8, 13, 103, 20, 187, 26], [4, 80, 81, 148, 77, 149, 188, 2, 6, 189, 190, 2, 142, 26, 4, 5, 2, 191, 192, 29], [18, 85, 13, 30, 183, 191, 181, 120, 2, 184, 18, 19, 193, 2, 142, 26], [81, 129, 194, 195, 196, 68, 81, 129, 76, 139, 20, 21, 2, 142, 166, 2, 165, 73, 4, 197, 81, 128, 29], [18, 19, 20, 156, 157, 104, 198, 13, 119, 158], [199, 200, 201], [202, 203, 63, 81, 204, 2, 124, 205, 166, 2, 165, 29], [71, 206, 5, 207, 73, 32, 208, 209, 26, 18, 63, 95, 2, 205, 202, 144, 15, 5, 210, 26, 173, 18, 19, 211, 15, 166, 212, 175, 73, 18, 43, 44, 139, 20, 95, 88, 2, 140, 124, 90, 135, 2, 181, 23, 212, 175, 20, 213, 180, 214, 189, 212, 179, 18, 43, 19, 20, 215, 2, 15, 177, 26], [214, 125, 2, 6, 5, 216, 68, 18, 19, 124, 157, 24, 37, 38, 164, 30, 217, 23, 24, 34, 40, 18, 43, 44, 139, 20, 95, 2, 124, 90, 202, 218, 0, 26], [220, 221, 172, 5, 76, 222, 29], [223, 23, 2, 224, 6, 7, 26], [17, 63, 81, 225, 226, 135, 61, 23, 13, 227, 189, 2, 84, 29], [18, 43, 19, 20, 228, 13, 100, 229, 222, 135, 144, 145, 68, 89, 230, 43, 156, 18, 8, 13, 231, 166, 231, 227, 232, 84], [80, 81, 134, 2, 3, 133, 73, 63, 81, 233, 234, 140, 235, 236, 29], [87, 73, 237, 238, 140, 235, 227, 135, 2, 227, 232, 100, 229, 26], [81, 129, 194, 195, 196, 68, 81, 129, 76, 139, 20, 21, 2, 142, 166, 2, 165, 73, 4, 197, 81, 128, 29], [18, 19, 20, 156, 157, 104, 198, 13, 119, 158, 239, 240, 241], [242, 68, 243, 244, 160, 201], [4, 5, 2, 245, 20, 85, 2, 242, 29], [246, 75, 109, 247, 48], [18, 19, 20, 168, 2, 169, 7, 23, 24, 37], [18, 19, 20, 248, 88, 2, 6, 249, 26], [81, 129, 250, 133, 26, 116, 63, 81, 168, 142, 23, 2, 251, 31, 29], [18, 43, 85, 13, 167, 20, 168, 7, 23, 251, 31, 135, 144, 145, 125, 18, 168, 8, 2, 252, 103, 26], [81, 19, 208, 253, 243, 244, 5, 13, 70, 23, 71, 3, 26, 4, 254, 255, 243, 244, 29], [71, 5, 20, 256, 253, 243, 244, 257, 76, 258, 243, 259, 26, 32, 42, 260, 259, 18, 261, 262, 164, 8, 253, 263, 92, 264, 265, 26, 32, 80, 18, 75, 266, 20, 134, 71, 6, 237, 8, 267, 73, 81, 129, 268, 18, 43, 44, 269, 26, 66, 5, 4, 254, 255, 243, 244], [270, 271, 90], [272, 273, 90], [90, 151, 274, 275], [276, 166, 277, 278, 279], []]\n"
          ]
        }
      ]
    },
    {
      "cell_type": "code",
      "source": [
        "len(input_numerical_sentences)"
      ],
      "metadata": {
        "colab": {
          "base_uri": "https://localhost:8080/"
        },
        "id": "CTENgPP7Y7ft",
        "outputId": "2a9b52b8-4e31-4c93-ed02-fba7af549ec7"
      },
      "execution_count": 17,
      "outputs": [
        {
          "output_type": "execute_result",
          "data": {
            "text/plain": [
              "78"
            ]
          },
          "metadata": {},
          "execution_count": 17
        }
      ]
    },
    {
      "cell_type": "code",
      "source": [
        "training_sequence = []\n",
        "for sentence in input_numerical_sentences:\n",
        "  for i in range(1, len(sentence)):\n",
        "    training_sequence.append(sentence[:i+1])\n"
      ],
      "metadata": {
        "id": "wd_-r3rnZAUT"
      },
      "execution_count": 19,
      "outputs": []
    },
    {
      "cell_type": "code",
      "source": [
        "len(training_sequence)"
      ],
      "metadata": {
        "colab": {
          "base_uri": "https://localhost:8080/"
        },
        "id": "odzRf6y5Z2qi",
        "outputId": "37475cb9-bbda-45a1-caed-b55a394b9113"
      },
      "execution_count": 20,
      "outputs": [
        {
          "output_type": "execute_result",
          "data": {
            "text/plain": [
              "916"
            ]
          },
          "metadata": {},
          "execution_count": 20
        }
      ]
    },
    {
      "cell_type": "code",
      "source": [
        "len_list = []\n",
        "for sequence in training_sequence:\n",
        "  len_list.append(len(sequence))\n",
        "\n",
        "max(len_list)"
      ],
      "metadata": {
        "colab": {
          "base_uri": "https://localhost:8080/"
        },
        "id": "0YTANqv_aYR7",
        "outputId": "4efeeca6-5516-4724-b331-a5de22a02e06"
      },
      "execution_count": 21,
      "outputs": [
        {
          "output_type": "execute_result",
          "data": {
            "text/plain": [
              "62"
            ]
          },
          "metadata": {},
          "execution_count": 21
        }
      ]
    },
    {
      "cell_type": "code",
      "source": [
        "padded_training_sequence = []\n",
        "for sequence in training_sequence:\n",
        "  padded_training_sequence.append([0]* (max(len_list) - len(sequence)) + sequence)"
      ],
      "metadata": {
        "id": "byDvCPbAauK9"
      },
      "execution_count": 22,
      "outputs": []
    },
    {
      "cell_type": "code",
      "source": [
        "len(padded_training_sequence[11])"
      ],
      "metadata": {
        "colab": {
          "base_uri": "https://localhost:8080/"
        },
        "id": "_GqWMgMybbw0",
        "outputId": "89cc7bbb-9069-462d-f34b-9381157cff62"
      },
      "execution_count": 24,
      "outputs": [
        {
          "output_type": "execute_result",
          "data": {
            "text/plain": [
              "62"
            ]
          },
          "metadata": {},
          "execution_count": 24
        }
      ]
    },
    {
      "cell_type": "code",
      "source": [
        "padded_training_sequence = torch.tensor(padded_training_sequence, dtype=torch.long)\n"
      ],
      "metadata": {
        "id": "yHd_u4ribnDa"
      },
      "execution_count": 25,
      "outputs": []
    },
    {
      "cell_type": "code",
      "source": [
        "X = padded_training_sequence[:, :-1]\n",
        "y = padded_training_sequence[:, -1]"
      ],
      "metadata": {
        "id": "09sN84dWb0zL"
      },
      "execution_count": 26,
      "outputs": []
    },
    {
      "cell_type": "code",
      "source": [
        "class CustomDataset(Dataset):\n",
        "  def __init__(self, X, y):\n",
        "    self.X = X\n",
        "    self.y = y\n",
        "\n",
        "  def __len__(self):\n",
        "    return self.X.shape[0]\n",
        "\n",
        "  def __getitem__(self, idx):\n",
        "    return self.X[idx], self.y[idx]"
      ],
      "metadata": {
        "id": "HlOo-jw_cCKn"
      },
      "execution_count": 27,
      "outputs": []
    },
    {
      "cell_type": "code",
      "source": [
        "dataset = CustomDataset(X, y)"
      ],
      "metadata": {
        "id": "CPb9F0yacTPG"
      },
      "execution_count": 28,
      "outputs": []
    },
    {
      "cell_type": "code",
      "source": [
        "len(dataset)"
      ],
      "metadata": {
        "colab": {
          "base_uri": "https://localhost:8080/"
        },
        "id": "eX9aXJ3WcWlu",
        "outputId": "c29e078f-80ef-45d9-f455-66f7bfa0d7b6"
      },
      "execution_count": 29,
      "outputs": [
        {
          "output_type": "execute_result",
          "data": {
            "text/plain": [
              "916"
            ]
          },
          "metadata": {},
          "execution_count": 29
        }
      ]
    },
    {
      "cell_type": "code",
      "source": [
        "dataloader = DataLoader(dataset, batch_size=32, shuffle=True)"
      ],
      "metadata": {
        "id": "7QKURMFucZmb"
      },
      "execution_count": 30,
      "outputs": []
    },
    {
      "cell_type": "code",
      "source": [
        "for input, output in dataloader:\n",
        "  print(input.shape)\n",
        "  print(output.shape)\n",
        ""
      ],
      "metadata": {
        "colab": {
          "base_uri": "https://localhost:8080/"
        },
        "id": "NsfGf7Czcedo",
        "outputId": "9ad43f63-3e30-47ff-cfa7-0365e256762e"
      },
      "execution_count": 32,
      "outputs": [
        {
          "output_type": "stream",
          "name": "stdout",
          "text": [
            "torch.Size([32, 61])\n",
            "torch.Size([32])\n",
            "torch.Size([32, 61])\n",
            "torch.Size([32])\n",
            "torch.Size([32, 61])\n",
            "torch.Size([32])\n",
            "torch.Size([32, 61])\n",
            "torch.Size([32])\n",
            "torch.Size([32, 61])\n",
            "torch.Size([32])\n",
            "torch.Size([32, 61])\n",
            "torch.Size([32])\n",
            "torch.Size([32, 61])\n",
            "torch.Size([32])\n",
            "torch.Size([32, 61])\n",
            "torch.Size([32])\n",
            "torch.Size([32, 61])\n",
            "torch.Size([32])\n",
            "torch.Size([32, 61])\n",
            "torch.Size([32])\n",
            "torch.Size([32, 61])\n",
            "torch.Size([32])\n",
            "torch.Size([32, 61])\n",
            "torch.Size([32])\n",
            "torch.Size([32, 61])\n",
            "torch.Size([32])\n",
            "torch.Size([32, 61])\n",
            "torch.Size([32])\n",
            "torch.Size([32, 61])\n",
            "torch.Size([32])\n",
            "torch.Size([32, 61])\n",
            "torch.Size([32])\n",
            "torch.Size([32, 61])\n",
            "torch.Size([32])\n",
            "torch.Size([32, 61])\n",
            "torch.Size([32])\n",
            "torch.Size([32, 61])\n",
            "torch.Size([32])\n",
            "torch.Size([32, 61])\n",
            "torch.Size([32])\n",
            "torch.Size([32, 61])\n",
            "torch.Size([32])\n",
            "torch.Size([32, 61])\n",
            "torch.Size([32])\n",
            "torch.Size([32, 61])\n",
            "torch.Size([32])\n",
            "torch.Size([32, 61])\n",
            "torch.Size([32])\n",
            "torch.Size([32, 61])\n",
            "torch.Size([32])\n",
            "torch.Size([32, 61])\n",
            "torch.Size([32])\n",
            "torch.Size([32, 61])\n",
            "torch.Size([32])\n",
            "torch.Size([32, 61])\n",
            "torch.Size([32])\n",
            "torch.Size([20, 61])\n",
            "torch.Size([20])\n"
          ]
        }
      ]
    },
    {
      "cell_type": "code",
      "source": [
        "class LSTMModel(nn.Module):\n",
        "\n",
        "  def __init__(self, vocab_size):\n",
        "    super().__init__()\n",
        "    self.embedding = nn.Embedding(vocab_size, 100)\n",
        "    self.lstm = nn.LSTM(100, 150, batch_first=True)\n",
        "    self.fc = nn.Linear(150, vocab_size)\n",
        "\n",
        "  def forward(self, x):\n",
        "    embedded = self.embedding(x)\n",
        "    intermediate_hidden_states, (final_hidden_state, final_cell_state) = self.lstm(embedded)\n",
        "    output = self.fc(final_hidden_state.squeeze(0))\n",
        "    return output\n"
      ],
      "metadata": {
        "id": "sn19Z9Q-cnzC"
      },
      "execution_count": 38,
      "outputs": []
    },
    {
      "cell_type": "code",
      "source": [
        "model = LSTMModel(len(vocab))"
      ],
      "metadata": {
        "id": "5N9pdSZhfWbY"
      },
      "execution_count": 40,
      "outputs": []
    },
    {
      "cell_type": "code",
      "source": [
        "device = torch.device(\"cuda\" if torch.cuda.is_available() else \"cpu\")"
      ],
      "metadata": {
        "id": "gLK0eemvg43f"
      },
      "execution_count": 41,
      "outputs": []
    },
    {
      "cell_type": "code",
      "source": [
        "model.to(device)"
      ],
      "metadata": {
        "colab": {
          "base_uri": "https://localhost:8080/"
        },
        "id": "m_RzqiYKg_AM",
        "outputId": "b405fd35-cee1-4df7-e1a7-1deff91793fa"
      },
      "execution_count": 42,
      "outputs": [
        {
          "output_type": "execute_result",
          "data": {
            "text/plain": [
              "LSTMModel(\n",
              "  (embedding): Embedding(280, 100)\n",
              "  (lstm): LSTM(100, 150, batch_first=True)\n",
              "  (fc): Linear(in_features=150, out_features=280, bias=True)\n",
              ")"
            ]
          },
          "metadata": {},
          "execution_count": 42
        }
      ]
    },
    {
      "cell_type": "code",
      "source": [
        "epochs = 50\n",
        "learning_rate = 0.001\n",
        "\n",
        "criterion = nn.CrossEntropyLoss()\n",
        "\n",
        "optimizer = torch.optim.Adam(model.parameters(), lr=learning_rate)"
      ],
      "metadata": {
        "id": "R83NjtcOhF2i"
      },
      "execution_count": 44,
      "outputs": []
    },
    {
      "cell_type": "code",
      "source": [
        "# training loop\n",
        "\n",
        "for epoch in range(epochs):\n",
        "  total_loss = 0\n",
        "\n",
        "  for batch_x, batch_y in dataloader:\n",
        "\n",
        "    batch_x, batch_y = batch_x.to(device), batch_y.to(device)\n",
        "\n",
        "    optimizer.zero_grad()\n",
        "\n",
        "    output = model(batch_x)\n",
        "\n",
        "    loss = criterion(output, batch_y)\n",
        "\n",
        "    loss.backward()\n",
        "\n",
        "    optimizer.step()\n",
        "\n",
        "    total_loss = total_loss + loss.item()\n",
        "\n",
        "  print(f\"Epoch: {epoch + 1}, Loss: {total_loss:.4f}\")"
      ],
      "metadata": {
        "colab": {
          "base_uri": "https://localhost:8080/"
        },
        "id": "0q-0HQhThOTb",
        "outputId": "83317af8-e01a-4ea8-b86f-6b992239c35d"
      },
      "execution_count": 45,
      "outputs": [
        {
          "output_type": "stream",
          "name": "stdout",
          "text": [
            "Epoch: 1, Loss: 159.9826\n",
            "Epoch: 2, Loss: 140.6341\n",
            "Epoch: 3, Loss: 127.4505\n",
            "Epoch: 4, Loss: 115.0945\n",
            "Epoch: 5, Loss: 103.4551\n",
            "Epoch: 6, Loss: 92.6348\n",
            "Epoch: 7, Loss: 83.0458\n",
            "Epoch: 8, Loss: 73.6106\n",
            "Epoch: 9, Loss: 65.3331\n",
            "Epoch: 10, Loss: 57.7363\n",
            "Epoch: 11, Loss: 51.0848\n",
            "Epoch: 12, Loss: 44.9403\n",
            "Epoch: 13, Loss: 39.5855\n",
            "Epoch: 14, Loss: 34.7301\n",
            "Epoch: 15, Loss: 30.5405\n",
            "Epoch: 16, Loss: 26.9589\n",
            "Epoch: 17, Loss: 23.8199\n",
            "Epoch: 18, Loss: 20.9531\n",
            "Epoch: 19, Loss: 18.7054\n",
            "Epoch: 20, Loss: 16.8455\n",
            "Epoch: 21, Loss: 15.1159\n",
            "Epoch: 22, Loss: 13.7597\n",
            "Epoch: 23, Loss: 12.5650\n",
            "Epoch: 24, Loss: 11.4331\n",
            "Epoch: 25, Loss: 10.5957\n",
            "Epoch: 26, Loss: 9.9065\n",
            "Epoch: 27, Loss: 9.2795\n",
            "Epoch: 28, Loss: 8.6279\n",
            "Epoch: 29, Loss: 8.1730\n",
            "Epoch: 30, Loss: 7.7497\n",
            "Epoch: 31, Loss: 7.3842\n",
            "Epoch: 32, Loss: 6.9654\n",
            "Epoch: 33, Loss: 6.6595\n",
            "Epoch: 34, Loss: 6.4154\n",
            "Epoch: 35, Loss: 6.1106\n",
            "Epoch: 36, Loss: 5.8799\n",
            "Epoch: 37, Loss: 5.6757\n",
            "Epoch: 38, Loss: 5.5804\n",
            "Epoch: 39, Loss: 5.3868\n",
            "Epoch: 40, Loss: 5.2907\n",
            "Epoch: 41, Loss: 5.1689\n",
            "Epoch: 42, Loss: 5.0398\n",
            "Epoch: 43, Loss: 4.9324\n",
            "Epoch: 44, Loss: 4.7557\n",
            "Epoch: 45, Loss: 4.6535\n",
            "Epoch: 46, Loss: 4.6959\n",
            "Epoch: 47, Loss: 4.5761\n",
            "Epoch: 48, Loss: 4.4411\n",
            "Epoch: 49, Loss: 4.2656\n",
            "Epoch: 50, Loss: 4.3669\n"
          ]
        }
      ]
    },
    {
      "cell_type": "code",
      "source": [
        "# prediction\n",
        "\n",
        "def prediction(model, vocab, text):\n",
        "\n",
        "  # tokenize\n",
        "  tokenized_text = word_tokenize(text.lower())\n",
        "\n",
        "  # text -> numerical indices\n",
        "  numerical_text = text_to_indices(tokenized_text, vocab)\n",
        "\n",
        "  # padding\n",
        "  padded_text = torch.tensor([0] * (61 - len(numerical_text)) + numerical_text, dtype=torch.long).unsqueeze(0)\n",
        "\n",
        "  # send to model\n",
        "  output = model(padded_text)\n",
        "\n",
        "  # predicted index\n",
        "  value, index = torch.max(output, dim=1)\n",
        "\n",
        "  # merge with text\n",
        "  return text + \" \" + list(vocab.keys())[index]"
      ],
      "metadata": {
        "id": "W73kZ4x2hrlJ"
      },
      "execution_count": 46,
      "outputs": []
    },
    {
      "cell_type": "code",
      "source": [
        "prediction(model, vocab, \"The course follows a monthly\")"
      ],
      "metadata": {
        "colab": {
          "base_uri": "https://localhost:8080/",
          "height": 35
        },
        "id": "8N4-fnSfhyYl",
        "outputId": "ee9da300-7427-4919-e5a9-feecd35815ab"
      },
      "execution_count": 47,
      "outputs": [
        {
          "output_type": "execute_result",
          "data": {
            "text/plain": [
              "'The course follows a monthly subscription'"
            ],
            "application/vnd.google.colaboratory.intrinsic+json": {
              "type": "string"
            }
          },
          "metadata": {},
          "execution_count": 47
        }
      ]
    },
    {
      "cell_type": "code",
      "source": [
        "import time\n",
        "\n",
        "num_tokens = 10\n",
        "input_text = \"hi how are\"\n",
        "\n",
        "for i in range(num_tokens):\n",
        "  output_text = prediction(model, vocab, input_text)\n",
        "  print(output_text)\n",
        "  input_text = output_text\n",
        "  time.sleep(0.5)"
      ],
      "metadata": {
        "colab": {
          "base_uri": "https://localhost:8080/"
        },
        "id": "FeOzMUJ6iAFL",
        "outputId": "52a66d78-8b66-4f0e-c050-33fc307a95ea"
      },
      "execution_count": 48,
      "outputs": [
        {
          "output_type": "stream",
          "name": "stdout",
          "text": [
            "hi how are will\n",
            "hi how are will be\n",
            "hi how are will be covering\n",
            "hi how are will be covering the\n",
            "hi how are will be covering the following\n",
            "hi how are will be covering the following modules\n",
            "hi how are will be covering the following modules :\n",
            "hi how are will be covering the following modules : :\n",
            "hi how are will be covering the following modules : : a\n",
            "hi how are will be covering the following modules : : a part\n"
          ]
        }
      ]
    },
    {
      "cell_type": "code",
      "source": [
        "dataloader1 = DataLoader(dataset, batch_size=32, shuffle=False)"
      ],
      "metadata": {
        "id": "JXsV4AnNXNnw"
      },
      "execution_count": 49,
      "outputs": []
    },
    {
      "cell_type": "code",
      "source": [
        "# Function to calculate accuracy\n",
        "def calculate_accuracy(model, dataloader, device):\n",
        "    model.eval()  # Set the model to evaluation mode\n",
        "    correct = 0\n",
        "    total = 0\n",
        "\n",
        "    with torch.no_grad():  # No need to compute gradients\n",
        "        for batch_x, batch_y in dataloader1:\n",
        "            batch_x, batch_y = batch_x.to(device), batch_y.to(device)\n",
        "\n",
        "            # Get model predictions\n",
        "            outputs = model(batch_x)\n",
        "\n",
        "            # Get the predicted word indices\n",
        "            _, predicted = torch.max(outputs, dim=1)\n",
        "\n",
        "            # Compare with actual labels\n",
        "            correct += (predicted == batch_y).sum().item()\n",
        "            total += batch_y.size(0)\n",
        "\n",
        "    accuracy = correct / total * 100\n",
        "    return accuracy\n",
        "\n",
        "# Compute accuracy\n",
        "accuracy = calculate_accuracy(model, dataloader, device)\n",
        "print(f\"Model Accuracy: {accuracy:.2f}%\")"
      ],
      "metadata": {
        "colab": {
          "base_uri": "https://localhost:8080/"
        },
        "id": "nCIEwFiOiWyV",
        "outputId": "3642b68f-c4c4-4d05-c188-761189bdc315"
      },
      "execution_count": 50,
      "outputs": [
        {
          "output_type": "stream",
          "name": "stdout",
          "text": [
            "Model Accuracy: 95.63%\n"
          ]
        }
      ]
    }
  ]
}